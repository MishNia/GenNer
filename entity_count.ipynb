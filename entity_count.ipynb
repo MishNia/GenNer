{
  "cells": [
    {
      "cell_type": "markdown",
      "metadata": {
        "id": "view-in-github",
        "colab_type": "text"
      },
      "source": [
        "<a href=\"https://colab.research.google.com/github/MishNia/GenNer/blob/main/entity_count.ipynb\" target=\"_parent\"><img src=\"https://colab.research.google.com/assets/colab-badge.svg\" alt=\"Open In Colab\"/></a>"
      ]
    },
    {
      "cell_type": "markdown",
      "metadata": {
        "id": "ryG7b4lpgeSA"
      },
      "source": [
        "# Generate labels on the sampled pile corpus with ~50k passages"
      ]
    },
    {
      "cell_type": "code",
      "execution_count": null,
      "metadata": {
        "id": "Y9jdy3WshDIs",
        "tags": []
      },
      "outputs": [],
      "source": [
        "import pandas as pd\n",
        "import numpy as np"
      ]
    },
    {
      "cell_type": "code",
      "execution_count": null,
      "metadata": {
        "colab": {
          "base_uri": "https://localhost:8080/"
        },
        "id": "syoQCFPAhN5G",
        "outputId": "fdf7f79f-c975-4066-a3d7-24ccee352f0b",
        "tags": []
      },
      "outputs": [
        {
          "name": "stdout",
          "output_type": "stream",
          "text": [
            "Defaulting to user installation because normal site-packages is not writeable\n",
            "Requirement already satisfied: openai in /home/manavmishra/.local/lib/python3.8/site-packages (1.16.2)\n",
            "Requirement already satisfied: anyio<5,>=3.5.0 in /home/manavmishra/.local/lib/python3.8/site-packages (from openai) (4.3.0)\n",
            "Requirement already satisfied: distro<2,>=1.7.0 in /home/manavmishra/.local/lib/python3.8/site-packages (from openai) (1.9.0)\n",
            "Requirement already satisfied: httpx<1,>=0.23.0 in /home/manavmishra/.local/lib/python3.8/site-packages (from openai) (0.27.0)\n",
            "Requirement already satisfied: pydantic<3,>=1.9.0 in /home/manavmishra/.local/lib/python3.8/site-packages (from openai) (2.6.4)\n",
            "Requirement already satisfied: sniffio in /home/manavmishra/.local/lib/python3.8/site-packages (from openai) (1.3.1)\n",
            "Requirement already satisfied: tqdm>4 in /home/manavmishra/.local/lib/python3.8/site-packages (from openai) (4.66.2)\n",
            "Requirement already satisfied: typing-extensions<5,>=4.7 in /apps/llama/2/lib/python3.8/site-packages (from openai) (4.8.0)\n",
            "Requirement already satisfied: idna>=2.8 in /apps/llama/2/lib/python3.8/site-packages (from anyio<5,>=3.5.0->openai) (3.6)\n",
            "Requirement already satisfied: exceptiongroup>=1.0.2 in /home/manavmishra/.local/lib/python3.8/site-packages (from anyio<5,>=3.5.0->openai) (1.2.0)\n",
            "Requirement already satisfied: certifi in /apps/llama/2/lib/python3.8/site-packages (from httpx<1,>=0.23.0->openai) (2023.11.17)\n",
            "Requirement already satisfied: httpcore==1.* in /home/manavmishra/.local/lib/python3.8/site-packages (from httpx<1,>=0.23.0->openai) (1.0.5)\n",
            "Requirement already satisfied: h11<0.15,>=0.13 in /home/manavmishra/.local/lib/python3.8/site-packages (from httpcore==1.*->httpx<1,>=0.23.0->openai) (0.14.0)\n",
            "Requirement already satisfied: annotated-types>=0.4.0 in /home/manavmishra/.local/lib/python3.8/site-packages (from pydantic<3,>=1.9.0->openai) (0.6.0)\n",
            "Requirement already satisfied: pydantic-core==2.16.3 in /home/manavmishra/.local/lib/python3.8/site-packages (from pydantic<3,>=1.9.0->openai) (2.16.3)\n",
            "Note: you may need to restart the kernel to use updated packages.\n"
          ]
        }
      ],
      "source": [
        "pip install openai"
      ]
    },
    {
      "cell_type": "markdown",
      "metadata": {
        "id": "PYttm8sHihj2"
      },
      "source": [
        "Dirty code to deal with \"Field larger than field limit\" error"
      ]
    },
    {
      "cell_type": "code",
      "execution_count": null,
      "metadata": {
        "colab": {
          "base_uri": "https://localhost:8080/"
        },
        "id": "5X-FfA_Wig3E",
        "outputId": "39b5b1b3-3d16-42a0-d4dd-b2d7c1d0a2a7",
        "tags": []
      },
      "outputs": [
        {
          "data": {
            "text/plain": [
              "131072"
            ]
          },
          "execution_count": 3,
          "metadata": {},
          "output_type": "execute_result"
        }
      ],
      "source": [
        "import sys\n",
        "import csv\n",
        "\n",
        "csv.field_size_limit(sys.maxsize)"
      ]
    },
    {
      "cell_type": "code",
      "execution_count": null,
      "metadata": {
        "id": "LaGUN25AgohA",
        "tags": []
      },
      "outputs": [],
      "source": [
        "# Define your text passages\n",
        "datapath = 'content/sampled_dataset_tokenised.csv'\n",
        "df = pd.read_csv(datapath, engine='python', on_bad_lines='skip')\n",
        "\n",
        "text_passages = df['original_text'].tolist()"
      ]
    },
    {
      "cell_type": "markdown",
      "metadata": {
        "id": "zAhhxXs_i5AY"
      },
      "source": [
        "yay. read the data into a dataframe.\n",
        "\n",
        "blocks:\n",
        "\n",
        "https://www.shanelynn.ie/pandas-csv-error-error-tokenizing-data-c-error-eof-inside-string-starting-at-line/\n",
        "\n",
        "https://stackoverflow.com/questions/15063936/csv-error-field-larger-than-field-limit-131072\n",
        "\n",
        "https://stackoverflow.com/questions/52105659/pandas-read-csv-unexpected-end-of-data-error\n"
      ]
    },
    {
      "cell_type": "code",
      "execution_count": null,
      "metadata": {
        "colab": {
          "base_uri": "https://localhost:8080/",
          "height": 206
        },
        "id": "_XJ-wf-wjILt",
        "outputId": "1ca73385-4bc1-42d7-e186-db576d3a1a33",
        "tags": []
      },
      "outputs": [
        {
          "data": {
            "text/html": [
              "<div>\n",
              "<style scoped>\n",
              "    .dataframe tbody tr th:only-of-type {\n",
              "        vertical-align: middle;\n",
              "    }\n",
              "\n",
              "    .dataframe tbody tr th {\n",
              "        vertical-align: top;\n",
              "    }\n",
              "\n",
              "    .dataframe thead th {\n",
              "        text-align: right;\n",
              "    }\n",
              "</style>\n",
              "<table border=\"1\" class=\"dataframe\">\n",
              "  <thead>\n",
              "    <tr style=\"text-align: right;\">\n",
              "      <th></th>\n",
              "      <th>Unnamed: 0</th>\n",
              "      <th>original_text</th>\n",
              "      <th>tokenized_text</th>\n",
              "      <th>pile_set_name</th>\n",
              "    </tr>\n",
              "  </thead>\n",
              "  <tbody>\n",
              "    <tr>\n",
              "      <th>0</th>\n",
              "      <td>0</td>\n",
              "      <td>For Father’s Day this year, why not give him (...</td>\n",
              "      <td>[101, 1370, 4505, 787, 188, 2295, 1142, 1214, ...</td>\n",
              "      <td>Pile-CC</td>\n",
              "    </tr>\n",
              "    <tr>\n",
              "      <th>1</th>\n",
              "      <td>1</td>\n",
              "      <td>The Senate has joined the Federal Trade Commis...</td>\n",
              "      <td>[101, 1109, 3279, 1144, 1688, 1103, 3467, 5820...</td>\n",
              "      <td>Pile-CC</td>\n",
              "    </tr>\n",
              "    <tr>\n",
              "      <th>2</th>\n",
              "      <td>2</td>\n",
              "      <td>This weekend during the TCA event, it was anno...</td>\n",
              "      <td>[101, 1188, 5138, 1219, 1103, 157, 11356, 1856...</td>\n",
              "      <td>Pile-CC</td>\n",
              "    </tr>\n",
              "    <tr>\n",
              "      <th>3</th>\n",
              "      <td>3</td>\n",
              "      <td>A Jeweler's Eye for Flaw\\n\\nStories\\n\\nChristi...</td>\n",
              "      <td>[101, 138, 23624, 1200, 112, 188, 9329, 1111, ...</td>\n",
              "      <td>Pile-CC</td>\n",
              "    </tr>\n",
              "    <tr>\n",
              "      <th>4</th>\n",
              "      <td>4</td>\n",
              "      <td>SHARE\\n\\nMcDonald’s Family Classic turns out t...</td>\n",
              "      <td>[101, 17730, 12426, 2036, 9092, 787, 188, 3921...</td>\n",
              "      <td>Pile-CC</td>\n",
              "    </tr>\n",
              "  </tbody>\n",
              "</table>\n",
              "</div>"
            ],
            "text/plain": [
              "   Unnamed: 0                                      original_text  \\\n",
              "0           0  For Father’s Day this year, why not give him (...   \n",
              "1           1  The Senate has joined the Federal Trade Commis...   \n",
              "2           2  This weekend during the TCA event, it was anno...   \n",
              "3           3  A Jeweler's Eye for Flaw\\n\\nStories\\n\\nChristi...   \n",
              "4           4  SHARE\\n\\nMcDonald’s Family Classic turns out t...   \n",
              "\n",
              "                                      tokenized_text pile_set_name  \n",
              "0  [101, 1370, 4505, 787, 188, 2295, 1142, 1214, ...       Pile-CC  \n",
              "1  [101, 1109, 3279, 1144, 1688, 1103, 3467, 5820...       Pile-CC  \n",
              "2  [101, 1188, 5138, 1219, 1103, 157, 11356, 1856...       Pile-CC  \n",
              "3  [101, 138, 23624, 1200, 112, 188, 9329, 1111, ...       Pile-CC  \n",
              "4  [101, 17730, 12426, 2036, 9092, 787, 188, 3921...       Pile-CC  "
            ]
          },
          "execution_count": 8,
          "metadata": {},
          "output_type": "execute_result"
        }
      ],
      "source": [
        "df.head()"
      ]
    },
    {
      "cell_type": "code",
      "execution_count": null,
      "metadata": {
        "colab": {
          "base_uri": "https://localhost:8080/",
          "height": 107
        },
        "id": "NtM1Hd26jyR5",
        "outputId": "6f2bf7df-d1c7-419a-e871-dd6e839a5c8d",
        "tags": []
      },
      "outputs": [
        {
          "data": {
            "text/plain": [
              "'For Father’s Day this year, why not give him (or yourself) a gift he would really want? Cigar Art Prints and Canvas Wraps are available for limited time only at 30% off normal prices! A huge variety of shots are available, everyone is sure to find something they will love! … Continue reading →\\n\\nI have an extra copies of Portal, Half-Life 2 and Half Life 2 Ep 1 to gift through Steam. These are some of my favorite games of all time and I would love to share them with viewers 🙂 Leave a comment below on the site with which one you … Continue reading →'"
            ]
          },
          "execution_count": 9,
          "metadata": {},
          "output_type": "execute_result"
        }
      ],
      "source": [
        "df['original_text'][0]"
      ]
    },
    {
      "cell_type": "code",
      "execution_count": null,
      "metadata": {
        "colab": {
          "base_uri": "https://localhost:8080/"
        },
        "id": "UZVSiFJ4j2Bx",
        "outputId": "54225db5-66bc-4fe3-9e2b-de6b75500c77",
        "tags": []
      },
      "outputs": [
        {
          "data": {
            "text/plain": [
              "63477"
            ]
          },
          "execution_count": 10,
          "metadata": {},
          "output_type": "execute_result"
        }
      ],
      "source": [
        "len(text_passages)"
      ]
    },
    {
      "cell_type": "code",
      "execution_count": null,
      "metadata": {
        "id": "TGusAh5Shv8y",
        "tags": []
      },
      "outputs": [],
      "source": [
        "from openai import OpenAI\n",
        "import time\n",
        "\n",
        "# Set your OpenAI API key\n",
        "client = OpenAI(\n",
        "     api_key= '<key>'\n",
        ")\n",
        "\n",
        "# Function to call OpenAI API for named entity recognition\n",
        "def analyze_text(text):\n",
        "    messages = [{\n",
        "        \"role\": \"system\",\n",
        "        \"content\": \"Given a passage, your task is to extract all entities and identify their entity types. The output should be in a list of tuples of the following format: [('entity 1', 'type of entity 1'), ... ].\"\n",
        "    }, {\n",
        "        \"role\": \"user\",\n",
        "        \"content\": text\n",
        "    }]\n",
        "\n",
        "    response = client.chat.completions.create(\n",
        "        model=\"gpt-3.5-turbo-0125\",\n",
        "        messages=messages,\n",
        "        max_tokens=256,  # Adjust as needed\n",
        "        stop=[\"\\n\", \"<|endoftext|>\"],\n",
        "        temperature=0,\n",
        "        n=1\n",
        "    )\n",
        "    return response\n",
        "\n",
        "# Main function to process text passages\n",
        "def process_text_passages(passage):\n",
        "    response = analyze_text(passage)\n",
        "    print(response)\n",
        "    entities = response.choices[0].message.content\n",
        "    print(f\"\\n Entities are {entities}\")\n",
        "    return entities"
      ]
    },
    {
      "cell_type": "code",
      "execution_count": null,
      "metadata": {
        "colab": {
          "base_uri": "https://localhost:8080/"
        },
        "id": "OfK_Y7pEjs_z",
        "outputId": "d134ab08-ff7c-453c-aaf3-ec2f00987450"
      },
      "outputs": [
        {
          "name": "stdout",
          "output_type": "stream",
          "text": [
            "ChatCompletion(id='chatcmpl-9AeUAWOCEVuzGOCmUDKNiOhXiTjLk', choices=[Choice(finish_reason='stop', index=0, logprobs=None, message=ChatCompletionMessage(content=\"[('Father’s Day', 'event'), ('Cigar Art Prints', 'product'), ('Canvas Wraps', 'product'), ('Portal', 'product'), ('Half-Life 2', 'product'), ('Half Life 2 Ep 1', 'product'), ('Steam', 'platform')]\", role='assistant', function_call=None, tool_calls=None))], created=1712325934, model='gpt-3.5-turbo-0125', object='chat.completion', system_fingerprint='fp_b28b39ffa8', usage=CompletionUsage(completion_tokens=59, prompt_tokens=182, total_tokens=241))\n",
            "\n",
            " Entities are [('Father’s Day', 'event'), ('Cigar Art Prints', 'product'), ('Canvas Wraps', 'product'), ('Portal', 'product'), ('Half-Life 2', 'product'), ('Half Life 2 Ep 1', 'product'), ('Steam', 'platform')]\n",
            "ChatCompletion(id='chatcmpl-9AeUCLIoNg3S9vEiSiX42GBhirnMs', choices=[Choice(finish_reason='stop', index=0, logprobs=None, message=ChatCompletionMessage(content=\"[('Senate', 'Government Organization'), ('Federal Trade Commission', 'Government Organization'), ('Federal Communications Commission', 'Government Organization'), ('AT&T', 'Company'), ('Verizon', 'Company'), ('Sprint', 'Company'), ('T-Mobile', 'Company'), ('Commerce Chairman Jay Rockefeller', 'Person'), ('D-W.Va.', 'Location'), ('FTC', 'Government Organization'), ('Colorado', 'Location'), ('CNET', 'Company'), ('July 31', 'Date'), ('10:05 a.m.', 'Time'), ('Dara Kerr', 'Person')]\", role='assistant', function_call=None, tool_calls=None))], created=1712325936, model='gpt-3.5-turbo-0125', object='chat.completion', system_fingerprint='fp_b28b39ffa8', usage=CompletionUsage(completion_tokens=119, prompt_tokens=714, total_tokens=833))\n",
            "\n",
            " Entities are [('Senate', 'Government Organization'), ('Federal Trade Commission', 'Government Organization'), ('Federal Communications Commission', 'Government Organization'), ('AT&T', 'Company'), ('Verizon', 'Company'), ('Sprint', 'Company'), ('T-Mobile', 'Company'), ('Commerce Chairman Jay Rockefeller', 'Person'), ('D-W.Va.', 'Location'), ('FTC', 'Government Organization'), ('Colorado', 'Location'), ('CNET', 'Company'), ('July 31', 'Date'), ('10:05 a.m.', 'Time'), ('Dara Kerr', 'Person')]\n",
            "ChatCompletion(id='chatcmpl-9AeUElodk5KG1sqAWdZl8CNrRtJBq', choices=[Choice(finish_reason='stop', index=0, logprobs=None, message=ChatCompletionMessage(content=\"[('Arrow', 'TV Show'), ('Flash', 'TV Show'), ('Legends of Tomorrow', 'TV Show'), ('Supergirl', 'TV Show'), ('DC', 'Organization'), ('Titans', 'TV Show'), ('Dick Grayson', 'Fictional Character'), ('DCE', 'Organization'), ('Bell', 'Person'), ('DCEU', 'Organization'), ('Tim Drake', 'Fictional Character'), ('Damian Wayne', 'Fictional Character'), ('Robin', 'Fictional Character'), ('Batman', 'Fictional Character'), ('Hitgirl', 'Fictional Character'), ('Drake Bell', 'Person'), ('Nightwing', 'Fictional Character'), ('Ryan Potter', 'Person'), ('Bruce', 'Fictional Character'), ('Japanese', 'Nationality'), ('CWverse', 'TV Show'), ('Television Critics Association', 'Organization'), ('Supernatural', 'TV Show'), ('Traci', 'Fictional Character'), ('X-Files', 'TV Show'), ('Constantine', 'TV Show'), ('Moderator', 'Person'), ('Project 13', 'TV Show'), ('Variety', 'Organization')]\", role='assistant', function_call=None, tool_calls=None))], created=1712325938, model='gpt-3.5-turbo-0125', object='chat.completion', system_fingerprint='fp_b28b39ffa8', usage=CompletionUsage(completion_tokens=246, prompt_tokens=888, total_tokens=1134))\n",
            "\n",
            " Entities are [('Arrow', 'TV Show'), ('Flash', 'TV Show'), ('Legends of Tomorrow', 'TV Show'), ('Supergirl', 'TV Show'), ('DC', 'Organization'), ('Titans', 'TV Show'), ('Dick Grayson', 'Fictional Character'), ('DCE', 'Organization'), ('Bell', 'Person'), ('DCEU', 'Organization'), ('Tim Drake', 'Fictional Character'), ('Damian Wayne', 'Fictional Character'), ('Robin', 'Fictional Character'), ('Batman', 'Fictional Character'), ('Hitgirl', 'Fictional Character'), ('Drake Bell', 'Person'), ('Nightwing', 'Fictional Character'), ('Ryan Potter', 'Person'), ('Bruce', 'Fictional Character'), ('Japanese', 'Nationality'), ('CWverse', 'TV Show'), ('Television Critics Association', 'Organization'), ('Supernatural', 'TV Show'), ('Traci', 'Fictional Character'), ('X-Files', 'TV Show'), ('Constantine', 'TV Show'), ('Moderator', 'Person'), ('Project 13', 'TV Show'), ('Variety', 'Organization')]\n",
            "ChatCompletion(id='chatcmpl-9AeUIhrxx81g3oz527WTuKv6Sq6yK', choices=[Choice(finish_reason='stop', index=0, logprobs=None, message=ChatCompletionMessage(content=\"[('Christie Hodgen', 'Person'), ('Frederick Barthelme', 'Person'), ('Kirkus Reviews', 'Organization'), ('Ephram', 'Person'), ('Agnes', 'Person')]\", role='assistant', function_call=None, tool_calls=None))], created=1712325942, model='gpt-3.5-turbo-0125', object='chat.completion', system_fingerprint='fp_b28b39ffa8', usage=CompletionUsage(completion_tokens=45, prompt_tokens=765, total_tokens=810))\n",
            "\n",
            " Entities are [('Christie Hodgen', 'Person'), ('Frederick Barthelme', 'Person'), ('Kirkus Reviews', 'Organization'), ('Ephram', 'Person'), ('Agnes', 'Person')]\n",
            "ChatCompletion(id='chatcmpl-9AeUJJxu0GY2XGieXroPVOSHtJ7yw', choices=[Choice(finish_reason='stop', index=0, logprobs=None, message=ChatCompletionMessage(content=\"[('McDonald’s Family Classic', 'event'), ('School District 51', 'organization'), ('Tracy Hughes', 'person'), ('Anne', 'person'), ('Grand Junction', 'location'), ('Grand Junction Tennis Club', 'organization'), ('Elliott family', 'group'), ('McDonald’s', 'organization'), ('Lena Elliott', 'person'), ('Ron Elliott', 'person'), ('Anne', 'person'), ('Grand Junction High School', 'organization'), ('Aaron Gossage', 'person'), ('Tim', 'person'), ('George Gers', 'person'), ('Brian List', 'person'), ('Colorado Mesa University', 'organization'), ('Dan MacDonald', 'person'), ('Mesa County Summer Program', 'organization'), ('Dave Fleming', 'person'), ('Sarah Fleming', 'person'), ('Dave Montoya', 'person'), ('Keira Trujillo', 'person'), ('Tarek Arja', 'person'), ('Ben Arja', 'person')]\", role='assistant', function_call=None, tool_calls=None))], created=1712325943, model='gpt-3.5-turbo-0125', object='chat.completion', system_fingerprint='fp_b28b39ffa8', usage=CompletionUsage(completion_tokens=202, prompt_tokens=742, total_tokens=944))\n",
            "\n",
            " Entities are [('McDonald’s Family Classic', 'event'), ('School District 51', 'organization'), ('Tracy Hughes', 'person'), ('Anne', 'person'), ('Grand Junction', 'location'), ('Grand Junction Tennis Club', 'organization'), ('Elliott family', 'group'), ('McDonald’s', 'organization'), ('Lena Elliott', 'person'), ('Ron Elliott', 'person'), ('Anne', 'person'), ('Grand Junction High School', 'organization'), ('Aaron Gossage', 'person'), ('Tim', 'person'), ('George Gers', 'person'), ('Brian List', 'person'), ('Colorado Mesa University', 'organization'), ('Dan MacDonald', 'person'), ('Mesa County Summer Program', 'organization'), ('Dave Fleming', 'person'), ('Sarah Fleming', 'person'), ('Dave Montoya', 'person'), ('Keira Trujillo', 'person'), ('Tarek Arja', 'person'), ('Ben Arja', 'person')]\n",
            "ChatCompletion(id='chatcmpl-9AeUOkMaBq5Al3Q6W98AAGlJGA2NL', choices=[Choice(finish_reason='length', index=0, logprobs=None, message=ChatCompletionMessage(content=\"[('Durham', 'Location'), ('Kayley Herman', 'Person'), ('Weyburn', 'Location'), ('Saskatchewan', 'Location'), ('Sam Faber', 'Person'), ('Mt. Sinai', 'Location'), ('N.Y.', 'Location'), ('University of New Hampshire', 'Organization'), ('Colgate University', 'Organization'), ('Whittemore Center', 'Location'), ('ECAC', 'Organization'), ('Hockey East', 'Organization'), ('Ali Edell', 'Person'), ('Laura Jansen', 'Person'), ('Jennifer Hitchcock', 'Person'), ('Kelly Paton', 'Person'), ('Woodstock', 'Location'), ('Ontario', 'Location'), ('Kacey Bellamy', 'Person'), ('Westfield', 'Location'), ('Mass.', 'Location'), ('Martine Garland', 'Person'), ('Toronto', 'Location'), ('Lisa Plenderleith', 'Person'), ('Raiders', 'Organization'), ('Mallory Johnston', 'Person'), ('Sam Hunt', 'Person'), ('Elin Brown', 'Person'), ('Katie Stewart', 'Person'), ('LaSalle', 'Location'), ('St. Lawrence', 'Location'), ('Boston University', 'Organization'), ('www.unhw\", role='assistant', function_call=None, tool_calls=None))], created=1712325948, model='gpt-3.5-turbo-0125', object='chat.completion', system_fingerprint='fp_b28b39ffa8', usage=CompletionUsage(completion_tokens=256, prompt_tokens=844, total_tokens=1100))\n",
            "\n",
            " Entities are [('Durham', 'Location'), ('Kayley Herman', 'Person'), ('Weyburn', 'Location'), ('Saskatchewan', 'Location'), ('Sam Faber', 'Person'), ('Mt. Sinai', 'Location'), ('N.Y.', 'Location'), ('University of New Hampshire', 'Organization'), ('Colgate University', 'Organization'), ('Whittemore Center', 'Location'), ('ECAC', 'Organization'), ('Hockey East', 'Organization'), ('Ali Edell', 'Person'), ('Laura Jansen', 'Person'), ('Jennifer Hitchcock', 'Person'), ('Kelly Paton', 'Person'), ('Woodstock', 'Location'), ('Ontario', 'Location'), ('Kacey Bellamy', 'Person'), ('Westfield', 'Location'), ('Mass.', 'Location'), ('Martine Garland', 'Person'), ('Toronto', 'Location'), ('Lisa Plenderleith', 'Person'), ('Raiders', 'Organization'), ('Mallory Johnston', 'Person'), ('Sam Hunt', 'Person'), ('Elin Brown', 'Person'), ('Katie Stewart', 'Person'), ('LaSalle', 'Location'), ('St. Lawrence', 'Location'), ('Boston University', 'Organization'), ('www.unhw\n",
            "ChatCompletion(id='chatcmpl-9AeUT0cvFjO4lZfVzEL0f6P87UoCz', choices=[Choice(finish_reason='stop', index=0, logprobs=None, message=ChatCompletionMessage(content='[(\\'Models Own\\', \\'Brand\\'), (\\'Grey Day\\', \\'Product\\'), (\\'Seche Vite\\', \\'Product\\'), (\"Ibiza Mix\\'\", \\'Product\\')]', role='assistant', function_call=None, tool_calls=None))], created=1712325953, model='gpt-3.5-turbo-0125', object='chat.completion', system_fingerprint='fp_b28b39ffa8', usage=CompletionUsage(completion_tokens=33, prompt_tokens=474, total_tokens=507))\n",
            "\n",
            " Entities are [('Models Own', 'Brand'), ('Grey Day', 'Product'), ('Seche Vite', 'Product'), (\"Ibiza Mix'\", 'Product')]\n",
            "ChatCompletion(id='chatcmpl-9AeUUs7tTyV46nmom8W4unukTX4fE', choices=[Choice(finish_reason='stop', index=0, logprobs=None, message=ChatCompletionMessage(content=\"[('Emmerdale', 'TV Show'), ('Ofcom', 'Organization'), ('Eva', 'Person'), ('Kunta Kinte', 'Person'), ('British', 'Location')]\", role='assistant', function_call=None, tool_calls=None))], created=1712325954, model='gpt-3.5-turbo-0125', object='chat.completion', system_fingerprint='fp_b28b39ffa8', usage=CompletionUsage(completion_tokens=39, prompt_tokens=248, total_tokens=287))\n",
            "\n",
            " Entities are [('Emmerdale', 'TV Show'), ('Ofcom', 'Organization'), ('Eva', 'Person'), ('Kunta Kinte', 'Person'), ('British', 'Location')]\n",
            "ChatCompletion(id='chatcmpl-9AeUVC6TYWYD8dyLV1aZ1gqXOWx1x', choices=[Choice(finish_reason='length', index=0, logprobs=None, message=ChatCompletionMessage(content=\"[('A Cup of Ambition', 'Title'), ('9 to 5 Musical', 'Title'), ('NYC', 'Location'), ('Neuwirth', 'Person'), ('Janney', 'Person'), ('Block', 'Person'), ('Dolly Parton', 'Person'), ('Patricia Resnick', 'Person'), ('Joe Mantello', 'Person'), ('Wicked', 'Title'), ('Allison Janney', 'Person'), ('Stephanie J. Block', 'Person'), ('Megan Hilty', 'Person'), ('Dolly Parton', 'Person'), ('Bebe Neuwirth', 'Person'), ('Chicago', 'Title'), ('Marc Kudisch', 'Person'), ('Thoroughly Modern Millie', 'Title'), ('Andy Karl', 'Person'), ('Legally Blonde', 'Title'), ('Dabney Coleman', 'Person'), ('Dolly Parton', 'Person'), ('Patricia Resnick', 'Person'), ('Playbill.com', 'Organization'), ('Oscar', 'Title'), ('Best Song', 'Title'), ('Manhattan', 'Location'), ('Kevin Stites', 'Person'), ('The Color Purple', 'Title'), ('Threepenny Opera', 'Title'), ('Nine',\", role='assistant', function_call=None, tool_calls=None))], created=1712325955, model='gpt-3.5-turbo-0125', object='chat.completion', system_fingerprint='fp_b28b39ffa8', usage=CompletionUsage(completion_tokens=256, prompt_tokens=1597, total_tokens=1853))\n",
            "\n",
            " Entities are [('A Cup of Ambition', 'Title'), ('9 to 5 Musical', 'Title'), ('NYC', 'Location'), ('Neuwirth', 'Person'), ('Janney', 'Person'), ('Block', 'Person'), ('Dolly Parton', 'Person'), ('Patricia Resnick', 'Person'), ('Joe Mantello', 'Person'), ('Wicked', 'Title'), ('Allison Janney', 'Person'), ('Stephanie J. Block', 'Person'), ('Megan Hilty', 'Person'), ('Dolly Parton', 'Person'), ('Bebe Neuwirth', 'Person'), ('Chicago', 'Title'), ('Marc Kudisch', 'Person'), ('Thoroughly Modern Millie', 'Title'), ('Andy Karl', 'Person'), ('Legally Blonde', 'Title'), ('Dabney Coleman', 'Person'), ('Dolly Parton', 'Person'), ('Patricia Resnick', 'Person'), ('Playbill.com', 'Organization'), ('Oscar', 'Title'), ('Best Song', 'Title'), ('Manhattan', 'Location'), ('Kevin Stites', 'Person'), ('The Color Purple', 'Title'), ('Threepenny Opera', 'Title'), ('Nine',\n",
            "ChatCompletion(id='chatcmpl-9AeUbOTbflCjl8gDXMYL2coOCblAc', choices=[Choice(finish_reason='stop', index=0, logprobs=None, message=ChatCompletionMessage(content=\"[('Newton Faulkner', 'person'), ('Adele', 'person')]\", role='assistant', function_call=None, tool_calls=None))], created=1712325961, model='gpt-3.5-turbo-0125', object='chat.completion', system_fingerprint='fp_b28b39ffa8', usage=CompletionUsage(completion_tokens=18, prompt_tokens=831, total_tokens=849))\n",
            "\n",
            " Entities are [('Newton Faulkner', 'person'), ('Adele', 'person')]\n",
            "Processed 10 passages\n"
          ]
        }
      ],
      "source": [
        "import time\n",
        "\n",
        "counter = 0\n",
        "for index, row in df.iterrows():\n",
        "    if counter % 5 == 0 and counter != 0:  # After every 5 calls, sleep for 1 second\n",
        "        time.sleep(1)\n",
        "    df.at[index, 'generated_entities'] = process_text_passages(row['original_text'])\n",
        "    counter += 1\n",
        "\n",
        "    if counter % 10 == 0:\n",
        "      print(\"Processed 10 passages\")\n",
        "      df.head()\n",
        "      break"
      ]
    },
    {
      "cell_type": "code",
      "execution_count": null,
      "metadata": {
        "colab": {
          "base_uri": "https://localhost:8080/",
          "height": 310
        },
        "id": "U17_GjcjkuB5",
        "outputId": "451f30e6-38bf-4ed6-d034-7d19c80788cb"
      },
      "outputs": [
        {
          "data": {
            "application/vnd.google.colaboratory.intrinsic+json": {
              "summary": "{\n  \"name\": \"df\",\n  \"rows\": 30774,\n  \"fields\": [\n    {\n      \"column\": \"Unnamed: 0\",\n      \"properties\": {\n        \"dtype\": \"number\",\n        \"std\": 8883,\n        \"min\": 0,\n        \"max\": 30773,\n        \"num_unique_values\": 30774,\n        \"samples\": [\n          3964,\n          18239,\n          13008\n        ],\n        \"semantic_type\": \"\",\n        \"description\": \"\"\n      }\n    },\n    {\n      \"column\": \"original_text\",\n      \"properties\": {\n        \"dtype\": \"string\",\n        \"num_unique_values\": 30762,\n        \"samples\": [\n          \"[The significance of rheologic mechanisms in atherogenesis].\\nBeside the well-known risk factors for atherogenesis fibrinogen is an independent risk factor. High plasma fibrinogen levels predispose to hypercoagulability and thrombotic processes. Furthermore, rheological mechanisms, interfering with cell-to-cell contacts, and fluid-dynamic factors, facilitate local endothelial lesions resulting in atherosclerosis. Plasma fibrinogen, as the major contributing factor to plasma viscosity and red-blood-cell aggregation can limit oxygen supply and blood flow in microcirculation even in the absence of apparent coronary artery disease. Pharmacological interventions, in order to decrease elevated fibrinogen levels, do improve myocardial ischemia in patients with severe coronary artery disease.\",\n          \"/*\\nCopyright The Kubernetes Authors.\\n\\nLicensed under the Apache License, Version 2.0 (the \\\"License\\\");\\nyou may not use this file except in compliance with the License.\\nYou may obtain a copy of the License at\\n\\n    http://www.apache.org/licenses/LICENSE-2.0\\n\\nUnless required by applicable law or agreed to in writing, software\\ndistributed under the License is distributed on an \\\"AS IS\\\" BASIS,\\nWITHOUT WARRANTIES OR CONDITIONS OF ANY KIND, either express or implied.\\nSee the License for the specific language governing permissions and\\nlimitations under the License.\\n*/\\n\\n// Code generated by client-gen. DO NOT EDIT.\\n\\npackage v1beta1\\n\\nimport (\\n\\t\\\"context\\\"\\n\\t\\\"time\\\"\\n\\n\\tv1beta1 \\\"k8s.io/api/extensions/v1beta1\\\"\\n\\tv1 \\\"k8s.io/apimachinery/pkg/apis/meta/v1\\\"\\n\\ttypes \\\"k8s.io/apimachinery/pkg/types\\\"\\n\\twatch \\\"k8s.io/apimachinery/pkg/watch\\\"\\n\\tscheme \\\"k8s.io/client-go/kubernetes/scheme\\\"\\n\\trest \\\"k8s.io/client-go/rest\\\"\\n)\\n\\n// DaemonSetsGetter has a method to return a DaemonSetInterface.\\n// A group's client should implement this interface.\\ntype DaemonSetsGetter interface {\\n\\tDaemonSets(namespace string) DaemonSetInterface\\n}\\n\\n// DaemonSetInterface has methods to work with DaemonSet resources.\\ntype DaemonSetInterface interface {\\n\\tCreate(ctx context.Context, daemonSet *v1beta1.DaemonSet, opts v1.CreateOptions) (*v1beta1.DaemonSet, error)\\n\\tUpdate(ctx context.Context, daemonSet *v1beta1.DaemonSet, opts v1.UpdateOptions) (*v1beta1.DaemonSet, error)\\n\\tUpdateStatus(ctx context.Context, daemonSet *v1beta1.DaemonSet, opts v1.UpdateOptions) (*v1beta1.DaemonSet, error)\\n\\tDelete(ctx context.Context, name string, opts v1.DeleteOptions) error\\n\\tDeleteCollection(ctx context.Context, opts v1.DeleteOptions, listOpts v1.ListOptions) error\\n\\tGet(ctx context.Context, name string, opts v1.GetOptions) (*v1beta1.DaemonSet, error)\\n\\tList(ctx context.Context, opts v1.ListOptions) (*v1beta1.DaemonSetList, error)\\n\\tWatch(ctx context.Context, opts v1.ListOptions) (watch.Interface, error)\\n\\tPatch(ctx context.Context, name string, pt types.PatchType, data []byte, opts v1.PatchOptions, subresources ...string) (result *v1beta1.DaemonSet, err error)\\n\\tDaemonSetExpansion\\n}\\n\\n// daemonSets implements DaemonSetInterface\\ntype daemonSets struct {\\n\\tclient rest.Interface\\n\\tns     string\\n}\\n\\n// newDaemonSets returns a DaemonSets\\nfunc newDaemonSets(c *ExtensionsV1beta1Client, namespace string) *daemonSets {\\n\\treturn &daemonSets{\\n\\t\\tclient: c.RESTClient(),\\n\\t\\tns:     namespace,\\n\\t}\\n}\\n\\n// Get takes name of the daemonSet, and returns the corresponding daemonSet object, and an error if there is any.\\nfunc (c *daemonSets) Get(ctx context.Context, name string, options v1.GetOptions) (result *v1beta1.DaemonSet, err error) {\\n\\tresult = &v1beta1.DaemonSet{}\\n\\terr = c.client.Get().\\n\\t\\tNamespace(c.ns).\\n\\t\\tResource(\\\"daemonsets\\\").\\n\\t\\tName(name).\\n\\t\\tVersionedParams(&options, scheme.ParameterCodec).\\n\\t\\tDo(ctx).\\n\\t\\tInto(result)\\n\\treturn\\n}\\n\\n// List takes label and field selectors, and returns the list of DaemonSets that match those selectors.\\nfunc (c *daemonSets) List(ctx context.Context, opts v1.ListOptions) (result *v1beta1.DaemonSetList, err error) {\\n\\tvar timeout time.Duration\\n\\tif opts.TimeoutSeconds != nil {\\n\\t\\ttimeout = time.Duration(*opts.TimeoutSeconds) * time.Second\\n\\t}\\n\\tresult = &v1beta1.DaemonSetList{}\\n\\terr = c.client.Get().\\n\\t\\tNamespace(c.ns).\\n\\t\\tResource(\\\"daemonsets\\\").\\n\\t\\tVersionedParams(&opts, scheme.ParameterCodec).\\n\\t\\tTimeout(timeout).\\n\\t\\tDo(ctx).\\n\\t\\tInto(result)\\n\\treturn\\n}\\n\\n// Watch returns a watch.Interface that watches the requested daemonSets.\\nfunc (c *daemonSets) Watch(ctx context.Context, opts v1.ListOptions) (watch.Interface, error) {\\n\\tvar timeout time.Duration\\n\\tif opts.TimeoutSeconds != nil {\\n\\t\\ttimeout = time.Duration(*opts.TimeoutSeconds) * time.Second\\n\\t}\\n\\topts.Watch = true\\n\\treturn c.client.Get().\\n\\t\\tNamespace(c.ns).\\n\\t\\tResource(\\\"daemonsets\\\").\\n\\t\\tVersionedParams(&opts, scheme.ParameterCodec).\\n\\t\\tTimeout(timeout).\\n\\t\\tWatch(ctx)\\n}\\n\\n// Create takes the representation of a daemonSet and creates it.  Returns the server's representation of the daemonSet, and an error, if there is any.\\nfunc (c *daemonSets) Create(ctx context.Context, daemonSet *v1beta1.DaemonSet, opts v1.CreateOptions) (result *v1beta1.DaemonSet, err error) {\\n\\tresult = &v1beta1.DaemonSet{}\\n\\terr = c.client.Post().\\n\\t\\tNamespace(c.ns).\\n\\t\\tResource(\\\"daemonsets\\\").\\n\\t\\tVersionedParams(&opts, scheme.ParameterCodec).\\n\\t\\tBody(daemonSet).\\n\\t\\tDo(ctx).\\n\\t\\tInto(result)\\n\\treturn\\n}\\n\\n// Update takes the representation of a daemonSet and updates it. Returns the server's representation of the daemonSet, and an error, if there is any.\\nfunc (c *daemonSets) Update(ctx context.Context, daemonSet *v1beta1.DaemonSet, opts v1.UpdateOptions) (result *v1beta1.DaemonSet, err error) {\\n\\tresult = &v1beta1.DaemonSet{}\\n\\terr = c.client.Put().\\n\\t\\tNamespace(c.ns).\\n\\t\\tResource(\\\"daemonsets\\\").\\n\\t\\tName(daemonSet.Name).\\n\\t\\tVersionedParams(&opts, scheme.ParameterCodec).\\n\\t\\tBody(daemonSet).\\n\\t\\tDo(ctx).\\n\\t\\tInto(result)\\n\\treturn\\n}\\n\\n// UpdateStatus was generated because the type contains a Status member.\\n// Add a +genclient:noStatus comment above the type to avoid generating UpdateStatus().\\nfunc (c *daemonSets) UpdateStatus(ctx context.Context, daemonSet *v1beta1.DaemonSet, opts v1.UpdateOptions) (result *v1beta1.DaemonSet, err error) {\\n\\tresult = &v1beta1.DaemonSet{}\\n\\terr = c.client.Put().\\n\\t\\tNamespace(c.ns).\\n\\t\\tResource(\\\"daemonsets\\\").\\n\\t\\tName(daemonSet.Name).\\n\\t\\tSubResource(\\\"status\\\").\\n\\t\\tVersionedParams(&opts, scheme.ParameterCodec).\\n\\t\\tBody(daemonSet).\\n\\t\\tDo(ctx).\\n\\t\\tInto(result)\\n\\treturn\\n}\\n\\n// Delete takes name of the daemonSet and deletes it. Returns an error if one occurs.\\nfunc (c *daemonSets) Delete(ctx context.Context, name string, opts v1.DeleteOptions) error {\\n\\treturn c.client.Delete().\\n\\t\\tNamespace(c.ns).\\n\\t\\tResource(\\\"daemonsets\\\").\\n\\t\\tName(name).\\n\\t\\tBody(&opts).\\n\\t\\tDo(ctx).\\n\\t\\tError()\\n}\\n\\n// DeleteCollection deletes a collection of objects.\\nfunc (c *daemonSets) DeleteCollection(ctx context.Context, opts v1.DeleteOptions, listOpts v1.ListOptions) error {\\n\\tvar timeout time.Duration\\n\\tif listOpts.TimeoutSeconds != nil {\\n\\t\\ttimeout = time.Duration(*listOpts.TimeoutSeconds) * time.Second\\n\\t}\\n\\treturn c.client.Delete().\\n\\t\\tNamespace(c.ns).\\n\\t\\tResource(\\\"daemonsets\\\").\\n\\t\\tVersionedParams(&listOpts, scheme.ParameterCodec).\\n\\t\\tTimeout(timeout).\\n\\t\\tBody(&opts).\\n\\t\\tDo(ctx).\\n\\t\\tError()\\n}\\n\\n// Patch applies the patch and returns the patched daemonSet.\\nfunc (c *daemonSets) Patch(ctx context.Context, name string, pt types.PatchType, data []byte, opts v1.PatchOptions, subresources ...string) (result *v1beta1.DaemonSet, err error) {\\n\\tresult = &v1beta1.DaemonSet{}\\n\\terr = c.client.Patch(pt).\\n\\t\\tNamespace(c.ns).\\n\\t\\tResource(\\\"daemonsets\\\").\\n\\t\\tName(name).\\n\\t\\tSubResource(subresources...).\\n\\t\\tVersionedParams(&opts, scheme.ParameterCodec).\\n\\t\\tBody(data).\\n\\t\\tDo(ctx).\\n\\t\\tInto(result)\\n\\treturn\\n}\\n\",\n          \"Sunday, July 31, 2011\\n\\nRAMZAN is generally perceived as the Muslim month of fasting. To the believers though, this holy month holds a much larger significance. It is a period of spiritual cleansing \\u2013 of selfdenial and abstinence, of introspection and above all, a reaffirmation of self-surrender to the will of the Almighty. It was on this month, in 610 A.D., that the prophet Mohammed had experienced his \\u201cdivine revelations\\u201d which went on to form the essential text of the Holy Koran. Ramzan celebrates that event every year with the sighting of the crescent moon \\u2013 the month lasting for 29 or 30 days, depending upon the lunar cycle. Ramzan is also the time for communal bonding and strengthening fraternal ties. Much as the community fasts between sunrise and sunset, food constitutes a star attraction in the daily ritual, should the popularity of iftaar parties these days provide any indication. While politicians and business barons might strike deals over lavish spreads of malpuas and haleem, the more modest and humble would gather with the family around dinner tables to savour an array of biryani preparations, not to mention sumptuous snacks ranging from keema samosas to kababs and chana bhatura. Amidst these, the humble date occupies pride of place. While many might crunch the fruit in its natural or unadorned state, others would have it packed with almonds, soaked in rose water or perhaps, wrapped in fluorescent cellophane. Then there are always those tall glasses of faluda, fruit juice and radiant heaps of pomegranate, oranges and watermelon \\u2013 all peeled and mildly chilled. Indeed, on no other occasion, would these sherbets taste as delicious and refreshing as in the month of Ramzan. Take a walk down Mumbai\\u2019s Mohammad Ali Road after sunset \\u2013 or say, Delhi\\u2019s Chandni Chowk, even the area around Kolkata\\u2019s Nakhoda Masjid. These are busy thoroughfares, which bear a business- like order urgency during the day. But by nightfall, during Ramzan, the very same streets are transformed into a fairyland of bright lights and clattering pans, suffused with the heady aroma of mutton biryani, murg mussalam, malpuas, crunchy mughlais, sheer kurma, tikka\\u2026 It is then that you realize that Muslims in India are determined to crown their month of fasting with more than a little bout of feasting. And whoever heard of disturbing concepts like cholesterol and calorie counts in a culture that boasts of rich tradition of royal cuisine! Another fast emerging trend is that these iftaar binges are not restricted to Muslims only. Non-Muslims are increasingly partaking in these power-packed delicacies, some deliberately fasting during the day so as not to miss out on the variety. In that respect, Ramzan has already emerged from the \\u2018purdah\\u2019 and is acquiring secular overtones, much like Diwali and Dussehra. Political parties have been quick to recognise the mileage to be gained from this \\u201cbonding with biryani\\u201d and are hosting iftaar parties for all communities these days. In all this, what escapes attention is the behind-thescenesvpreparation for the grand occasion. For months before Ramzan, housewives would sun the dry fruits, go around town for the condiments and flavors, grind the masala, roast them and so on. Good Sheer kurma for a gastronome could take up to ten days of hard work before this divine mixture of vermicelli, milk, nuts and dry fruit is cooked right. And then, there is no one way of cooking this dish \\u2013 equivalent to what plum cake is on Christmas or modak is on Ganesh Chaturthi. Every Muslim family has its own recipe for sheer kurma it would not easily part with. But everybody is welcome to it and many foodies make it a point to visit one another over the evenings, only to drink vast quantities of this delicacy. Moreover, within the community, different sects have their own culinary preferences during the festival. So while the north Indian Khans might freak out on kheer, Muslims from Kolkata would go all out for laddoos made of vermicelli. Many Bohra households in Mumbai prefer to dole out chocolates while for others, it could be marzipans. After all, barring dates, which is considered \\u201csunnah\\u201d (auspicious), there is no religious binding on what should be served at the end of every day of rigorous fasting.\\n\\nMaintaining that education holds key in all round development, Minister for school education, Peerzada Mohammad Sayeed, on Sunday said that coalition government is determined to universalize education in the state.\\n\\nThe Minister was addressing Education Conference of Anantnag and Kulgam districts held at Khanabal Anantnag. He said sufficient funds are being provided by the Centre under education sector and several flagship programmes initiated by the centre in this sector have been instrumental in leading country towards cent percent literacy, adding that Jammu and Kashmir is also fast marching towards this direction.\\n\\nThe Minister said that the education should be kept away from politics and no interference should be allowed in educational programmes so that the aims and objectives of imparting education to the new generations are fulfilled.\\n\\nStressing for inculcating moral education among the students, the Minister asked the teaching fraternity to give important lessons on prayer meeting every morning on the opening of schools.\\n\\nResponding to the demands put forth by the organizers, Peerzada announced that confirmation orders of Zonal Education officers would be issued shortly.\\n\\nReferring to the Education conference, the Education Minister hoped that fruitful results would evolve out of the Conference and will help in implementation of related schemes.\\n\\nOn the occasion, Commissioner/Secretary, Education, Naseem Lankar stressed for monitoring of execution of school buildings and judicious use of funds. She also stressed for ensuring quality education to the students.\\n\\nDirector School Education, Kashmir, Sheikh Mushtaq Ahmad in his address highlighted the achievements of the department. He directed the field functionaries to work with missionary zeal and in a true spirit. He asked the concerned to implement the instructions issued by the department about conduct of tour diaries. He asked them to work with utmost dedication and try to show results in implementing the various interventions.\\n\\nDistrict Development Commissioner, Anantnag Kifayat Hussain Rizvi in his address enlightened the rights and duties of teaching fraternity.\\n\\nProject Director, SSA Yasha Mudgal also spoke on the occasion and highlighted the achievements of SSA.\\n\\nChief Education Officers of Anantnag and Kulgam, Principal DIETs, Principals of Higher Secondary of District Anantnag and Kulgam, Zonal Education Officers and Head Masters of Anantnag and Kulgam districts attended the conference.\\n\\n\\u2018It is my kingdom and I am the ruler\\u2019 the kind of attitude that most heads and directors of various departments across the Kashmir University do have. They do have a mindset that whole of the department or center they are heading is their kingdom, the employees working under them are their subjects and they have every right to use them for their personal growth, home chores; incase of any resistance the person is abused to core.\\n\\nThere have been many cases in the varsity where heads have gone to all possible extent to bow down \\u2018resistant subjects\\u2019 so as to set examples for others not to resist and to be loyal to the kings of times.\\n\\nWell, it could sensed, the moment an outsider talks to these \\u2018top academicians\\u2019 of the university all he/she would hear: \\\"I, Me and Myself\\\" who seem to have ostracized in their egos.\\n\\nAnd most a time they would brag about their achievement much more than their actual worth. However, in their cocooned lives they think others are interested in hearing them without realizing that they are annoying and obviously irking someone.\\n\\nWhen it comes to the permanent staff, they too are subjects, but the level of acceptance of orders from the king is least. However, the adhocs, contractual employees are the worst suffers being the \\u2018third class\\u2019 subjects of the var-sity they have to bear the brunt of their kings.\\n\\nIn case of the contractual employees, it is the heads or directors of that department who decides their fate for each day. And the \\u2018kings\\u2019 to best of their abilities use, abuse and reuse them in whatever way they can. Irony is that no one in the varsity is bothered about it. It is not that that those who are at the helm of affairs at top are unaware of these facts but they are putting a blind eye toward this menace.\\n\\nInterestingly, about each other \\u2018lead academicians\\u2019 of the varsity would share all the scorns you probably would ever have heard of. This speaks volumes about their level of maturity they do possess. All that could be suggested to all of them is please realize that those \\u201cI, me and myself\\u201d syndrome is plainly egoist and suffering from a vaunted.\\n\\nMinister of State for Petroleum and Natural Gas R P N Singh today flagged off a motorbike expedition to Ladakh.\\n\\nThe expedition\\u2014Peaks of Friendship\\u2014is being sponsored by Indian Oil Corporation (IOC), the country\\u2019s largest oil marketing firm.\\n\\nSpeaking on the occasion, Mr Singh appreciated the efforts of the Pathfinders, the organisers, in embarking on an expedition which promises to make a difference to the people living in remote areas.\\n\\n\\\"The fact that Indian Oil, the leader in the downstream petroleum sector is sponsoring this expedition is a proof and an eloquent testimony to our commitment to people living in remote locations,\\\" the Minister said.\\n\\nIOC has been sponsoring the expedition since the year 1995, IOC Chairman R S Butola said, adding it will continue to extend its support in the future as well.\\n\\nIOC Director (HR) Sudhir Bhalla was also present at the flag off ceremony.\\n\\nPilgrimage to holy cave shrine of Mata Vaishno Devi ji was, for the first time, touching 6 million in just seven months of the year recording an increase of 7.77 lakh over the corresponding months last year. The present trend of increase could take the yatra very close to magic figure of 1 crore this year.\\n\\nIt would be the first shrine, located between the Trikuta hills and untouched by the passenger vehicles, to receive nearly 10 million pilgrims in a year in the country.\\n\\nDuring first seven months of this year, 58.63 lakh yatris had visited the cave shrine of Goddess Vaishno Devi, located at a height of 5200 feet from sea level. Going by the current average arrival of 35,000 to 40,000 pilgrims per day at Katra, the base camp of the shrine, the yatra would cross 6 million in next three to four days. Last year, the feat of 6 million was achieved after eight months.\\n\\nAdditional CEO Shri Mata Vaishno Devi Shrine Board (SMVDSB), Dr Mandeep K Bhandari told the Excelsior that pilgrimage to Mata Vaishno Devi shrine has shown an increase of 7.77 lakh during first seven months of this year as compared to same period last year.\\n\\nAs against 58.63 lakh pilgrims visiting the holy cave shrine by this evening, 50.86 lakh yatris had visited Vaishno Devi Bhawan in the corresponding period last year, he said.\\n\\nIn the month of July, 11.27 lakh yatris paid obeisance to Goddess Vaishno Devi. The number during last year was 8.17 lakh.\\n\\nThis is for the first time that yatra to Vaishno Devi shrine had crossed 11 lakh in the months of June and July. During the two months alone, the yatra has recorded an increase of about 6.5 lakh over the same months of previous year taking total increase during seven months to 7.77 lakh.\\n\\nDuring 2010, an all time high 87.2 lakh pilgrims had visited Mata Vaishno Devi shrine. With 7.77 lakh increase having been registered in the yatra already, the Shrine Board authorities were anticipating that, going by the present trend, the yatra could touch or reach close to 1 crore this year.\\n\\nThere is no shrine in the country having no direct access of passenger vehicles which received 1 crore pilgrims a year. The pilgrims had to trek 13 kilometers hilly track from Katra to reach the Bhawan of Goddess Vaishno Devi.\\n\\nMeanwhile, the Shrine Board has received report from IIM Ahmedabad experts on yatra management at Mata Vaishno Devi Bhawan in view of ever increasing rush of the yatris. The Board had hired services of IIM Ahmedabad experts to suggest yatra management within limited scope of widening at Bhawan complex for better management of yatra queues to ensure that the pilgrims face less inconvenience and time in the queues.\\n\\nThe Shrine Board authorities are studying the report, official sources said.\\n\\nSDPO Katra P N Tickoo said security arrangements at Katra, which serves as base camp for the shrine, Darshani Deodi, Ban Ganga and surrounding areas of Katra have already been intensified in view of unabated heavy rush of the pilgrims to Mata Vaishno Devi Bhawan.\\n\\nMr Tickoo said the pilgrims having mobile handset with IMEI number and photo identity cards were being allowed only in the hotels, guest houses, lodges and sarais as per the directive of police.\\n\\nAs against 87.2 lakh yatra in 2010, the number in 2009 was 82 lakh. In 2008, 67.92 lakh yatra was recorded while the number was 74.17 lakh in 2007. The pilgrimage was down in 2008 due to Amarnath land row agitation.\\n\\nWhile 4,21,231 yatris had darshan of natural pindies of Goddess Vaishno Devi during January this year, the similar figure for previous year was 3,99,665. In February, the yatra came down slightly and stood at 3,69,755 as against 3,77,213 last year. In March, 7.55 lakh yatris paid obeisance to the Goddess as against 7.22 lakh last year. In April this year, 9.77 lakh pilgrims visited Mata's Bhawan as against 8.35 lakh last year.\\n\\nYatra to Mata Vaishno Devi shrine in the month of May was almost equal like the last year. While this year, 8.7 lakh yatris visited the cave shrine, the figure for the last year was 8.65 lakh. In June, the yatra went up to 11.6 lakh as against 9.19 lakh last year.\\n\\nOver 5,000 pilgrims performed darshan in holy cave of Shri Amarnath Ji in South Kashmir district of Anantnag on 32nd day of yatra today.\\n\\nWith this, the total number of pilgrims performing darshan during this season till today has touched 6,17,090 mark. It may be recalled that 6,12,090 pilgrims had performed darshan in the cave shrine by late last night, a Yatra Officer said.\\n\\nHe said out of them six lakh pilgrims have returned to their home States while the rest were on their way. The pilgrims who performed darshan in holy cave yesterday were on their way to Baltal and Nunwan-Pahalgam base camps, he added.\\n\\nHe said the pilgrimage was progressing smoothly despite the cloudy weather on yatra routes.\\n\\nThe Yatra Officer said 4,882 pilgrims left for holy cave from twin base camps of Baltal and Nunwan-Pahalgam. Out of them 3,017 pilgrims left via traditional Nunwan Chandanwari track while 1,865 left via shortest Baltal route. Besides hundreds of pilgrims, who had a night halt at Sheshnag and Panjtarni yesterday, also left for their onwards sojourn this morning, he added.\\n\\nHe said while the pilgrims who left from Panjtarni and Baltal this morning performed darshan in cave shrine by late tonight, those who left from Sheshnag and Chandanwari were on their way to next camps.\\n\\nMeanwhile on the occasion of Shrawan Amawasya today, holy Chhari Poojan was performed at historical Shankaracharya temple in a traditional way by Mahant Deepender Giri Ji, the Mahant of holy mace amidst chanting of Vedic hymns. A large number of saints and devotees participated in the function.\\n\\nThe holy mace was taken to Shankaracharya temple from Dashnami Akhara early this morning by Mahant Ji. After performing the traditional Chhari pooja, the holy mace was brought back to Dashnami Akhara.\\n\\nIt will be taken to Sharika temple at Chakreshwar, Srinagar tomorrow by Mahant Ji where the Chhari Poojan will also be performed in a traditional way.\\n\\nBesides a fresh batch of 793 pilgrims left Bhagwati Nagar, Jammu Yatri Niwas for holy cave early this morning under tight security arrangements.\\n\\nComprising 378 males, 84 females, six children and 325 Sadhus, they left in a cavalcade of 23 vehicles. These pilgrims had reached Nunwan-Pahalgam and Baltal base camps till last reports came in where from they will leave for their onwards sojourn tomorrow morning.\\n\\nThe 46 day long yatra which started on June 29 will culminate on Shrawan Purnima coinciding with Raksha Bandhan falling on August 13.\\n\\nFriday, July 29, 2011\\n\\nA protest demonstration was staged by Joint Forum of Kashmiri Pandit organizations in front of Press Club here today to protest against the recently held Indo Pak dialogue. The demonstration was led by senior KP leader and president, All State Kashmiri Pandit Conference, (ASKPC) A N Vaishnavi.\\n\\nThe protestors displaying pla-cards and banners raised slogans denouncing the Indo-Pak talks as sham. They said that these talks would prove counter productive and would only encourage Pakistan and secessionist elements in the State.\\n\\nThey lambasted the Union Government and said that the manner in which the secessionist elements were facilitated to meet the Pakistan Foreign Minister is shameful. This smacks of a deep rooted conspiracy to undermine the position of the Indian nation and harm its vital national interests. The complicity of Pakistan in arranging meeting with these elements who are bent upon to break India has been established and as such the Government of India should have taken strong and appropriate measures, they added.\\n\\nInstead it seems that the meeting was facilitated by the Government and was held in full glare of the media.\\n\\nThey said it has shaken the nation and created doubts regarding the sincerity and credibility of the Government in context of Kashmir issue. The manner and conduct of the Government gives rise to fears and suspicions that there may be a sell out being worked out at the cost of the nationalist forces in the State.\\n\\nThey said that time and again, the nationalist forces in the country including the Kashmiri Pandits have made it clear that there is no constituency in the country for negotiating or experimenting over the territory and sovereignty of India in J&K. The KPs have asked the Government of India to initiate a comprehensive dialogue process with the representatives of the community that would ultimately lead to the establishment of a separate homeland for seven lakh KPs in Valley, the added.\\n\\nChief Executive Officer of the Shri Amarnath Shrine Board (SASB), has said that as per the Meteorological Department\\u2019s weather forecast for 30th July to 3rd August: there is a possibility of light rain/thundershowers on 30th \\u2013 31st July and it is expected to remain partly cloudy on 1st \\u2013 3rd August, 2011, in the Kashmir Division.\\n\\nThe CEO has yet again advised all those who intend to visit the Cave Shrine of Shri Amarnath to ascertain the obtaining weather conditions in the Amarnath Yatra area before embarking on the pilgrimage. The details of weather forecast are available on the website of the Indian Meteorological Department, at (www.amssdelhi.gov.in).\\n\\nThe CEO also urged all intending pilgrims to have themselves medically examined and no one with an orthopaedic problem, chest or lung ailment or any cardiac deficiency should venture to undertake the arduous Yatra, involving trekking upto 14,000 feet.\\n\\nGoyal said that the Yatra to the Holy Cave Shrine is progressing satisfactorily on both the Baltal and Chandanwari routes since today morning.\\n\\nThe Sajid Iqbal Foundation (SIF) for Peace and Human Rights on Thursday organized a blood donation camp at SKIIMS Soura in which around 200 volunteers from different districts of Kashmir besides executives of the foundation donated blood to the SKIMS in-house blood bank.\\n\\nThe volunteers had come from Srinagar, Pulwama and Anantnag districts. The event marked the beginning of the foundation\\u2019s \\u2018Lifeline\\u2019 programme which aims to provide assistance to victims of road accidents in Kashmir. Sajid himself was a prolific donor, always ready to donate blood to those in need.\\n\\nHighlighting the need for Kashmiris to donate blood as an act of social responsibility, Sehar Iqbal, the Executive Director of the Foundation urged youth to come forward and join the movement.\\n\\nThe event was organized in collaboration with the Kashmir Social Workers\\u2019 Committee and the Sher-e-Kashmir Institute of Medical Sciences, Soura. The SIF has been established to initiate and support civil society initiatives to promote peace, reconciliation and respect for human rights in memory of Sajid Iqbal, a prominent Kashmiri human rights lawyer and youth activist.\\n\\nThe group was located in northern Brazil, and has four cabins with communities as well as corn and banana plantations.\\n\\nThe organization Brazilian National Indian Foundation (FUNAI) has detected a new tribe of Indians in the Javari Valley, a region north of Amazonian Brazil.\\n\\nFunai, a body within the Brazilian government reported that the community is composed of about 200 Indians, part of the language community called pano, and investigators believe, has not had any contact with civilization.\\n\\nThe coordinator of the Javari Valley, Fabricio Amorim said that members of the Front for the Protection Ethnoenvironmental located three large open areas with four Community herds. In addition, according to Millennium , the community huts appear to be new, and corn plantings were located, like thickets banana and peanuts.\\n\\nAmorim said that such discoveries require years of systematic and methodical, and documentary research, expeditions and satellite image analysis.\\n\\nBrazilian authorities want the tribe to continue alone, to avoid threats to native-like spread of infectious diseases. Therefore, the Brazilian government has banned contact with these tribes. Amorim says that the main threats to the integrity of these groups are fishing and illegal hunting, logging, mining, grazing and deforestation. The missionary activities and some border situations, such as drug trafficking and oil exploration, also pose a risk to these communities.\\n\\nThursday, July 28, 2011\\n\\nThe Agriculture department today organized a public awareness camp in Bhagwah area of Bhaderwah whereat AEO along with JAEOs and other subordinate staff apprised the farming community about various schemes and programmes being implemented by the department.\\n\\nNewly elected Sarpanchs and Panchs Lower Bhagwah, Manjmi and Mainchar of Panchayat and the general public participated in the awareness programme. The AEO apprised the farmers about various centrally sponsored schemes like KCC, National Agriculture Insurance Scheme, AIMA and Technology Mission. The farmers were advised to fill far for KCC scheme , besides making them aware about soil testing facilities available in Doda.\\n\\nThe demands raised by the farmers like ensuring timely availability of seeds, fertilizers and compensation for the crop loss due to prolonged dry spell were noted to be brought to the notice of higher authorities.\\n\\nThe farmers expressed their satisfaction over the awareness programme and hope that such meetings will be held in future also.\\n\\nUnderlining the importance of personal development for moulding young children into capable and responsible citizens, Chief Minister, Omar Abdullah Wednesday asked the educational institutions to focus all round development of students while attending their academic excellence.\\n\\nSpeaking at a platinum jubilee celebrations of Presentation Convent School here, the Chief Minister said that the holistic development and growth of young boys and girls is need of the hour to enable them face futuristic challenges with capacity and calibre. \\u201cThey should be proved to compete at the national and international level with confidence and competence\\u201d, he said adding that after completing education they have to step in a wider world to make a dent.\\n\\nFor the first time after suspension of trade for four months, traders of both sides of divided Jammu and Kashmir today settled their accounts and urged governments of the two countries to increase the trading days as well as the number of goods, during the traders meet organised by the authorities here at Rahe Milan, Chakkan-Da-Bagh.\\n\\nThe traders from Pakistan administered Kashmir, however, initially decided to suspend the meet as the three most prominent defaulting traders were not present there but later with mutual understanding the meeting was carried out peacefully. PAK traders have submitted a list of 31 defaulter traders to Indian authorities while Indian traders submitted a list of 17 defaulter traders to PAK authorities and it was unanimously decided to bring all of them in this traders meet so that their accounts were settled and they get their due payment from the defaulter traders.\\n\\n105 traders of J&K and PAK today converged on Chakkan-Da-Bagh and debated various issues connected with growth and strengthening of LoC trade in the backdrop of Indo-Pak foreign ministerial level talks.\\n\\nThe traders on the two sides also exchanged the list of the defaulting traders who had failed to clear their dues, they said.\\n\\nIndian traders demanded enhancement in the number of trucks, giving list of disputed parties, trader to trader trade and five days permits for the traders to survey the markets of other country. Traders also demanded Indo-PAK governments intervention in boosting cross LoC trade as according to them there is no profitable item being imported or exported.\\n\\nTraders Pawan Anand, Krishan Singh, Amin Magrey, Rajinder Vaid welcomed the decision of both the governments for enhancing the number of days from two to four. They, however, regretted that their was no benefit for enhancing number of days as there was a list of 21 items for cross LoC trade which was decided to be enhanced but instead of enhancing these, authorities have banned some profitable items on the excuse of their packing. They urged upon both the governments to solve the problems of traders of both sides as they are running this trade just to improve relations with each other and not to earn profits. They also demanded traders list of PAK traders from PAK as the authorities did not provide the same to them.\\n\\nThe traders of both the sides expressed their satisfaction over the outcome of the talks and urged governments of India and Pakistan to increase the number of trading days and also increase the number of the trade items of the LoC trade.\\n\\nThe meeting was organised under the supervision of Abdul Hamid Custodian Cross LoC Trade and Kuldeep Raj TFO Poonch while Mirza Arshad Jaral ADC Tetrinote supervised traders meet from PAK side in the traders meet.\\n\\nA total of 105 traders including 49 from Indian side and 56 traders from PAK side participated in the traders meet.\\n\\nOfficial reports said that more than three traders settled their accounts which were pending from last more than one year.\\n\\nPak trader Choudary Mufti Basarat, Mohammad Hafiz, Mohammad Akbar, Zardar Abbassi, Mohammad Raza told KTNS there was need of trader to trader trade so that the middle man are shunt out from this Cross LoC trade. They alleged that some Indian traders have blocked their payments and they requested Indian authorities to provide their money to them so that they will further carry on this trade.\\n\\n\\u201cWe have brought a ten point formula for smooth functioning of this trade which must be supported by Indian counterparts,\\u201d they said, extending support to their Indian counterparts on the issue of providing traders permits by the authorities of both sides.\\n\\nAfter the meeting Abdul Hamid Custodian Cross LoC Trade told KTNS that today he have got a list of 8 defaulter traders from PAK and he will ask them to attend the next traders meet. To a question of three main defaulters, he said that legal action will be taken against them.\\n\\nShowing his powers a sarpanch on wednesday locked the high school and seized the official records at Nagbal, Yusmarg in central kashmirs Budgam district. Reports said that a sarpanch, Ghulam Mohammad Ahangar this afternoon locked the school and seized the attendance register of the staff after he found some teachers absent from duty,\\\" sources said.\\n\\nThey said that the sarpanch with out listening to the teachers present locked the school and took the arrival along forcing the hundreds of students to return to their homes. Though the sarpanch claims that he took the step for the benefit of the students, the officials maintain that he is unnecessarily interfering in the administrative matters of the school. \\\"The school is not only short of staff but the teachers posted there always remain absent from the duty. After the authorities failed to solve the problem despite repeated representations to them i decided to lock the school,\\\"Sarpanch said. He said that when he visited the school this afternoon he found only three teachers present there.\\n\\nThe \\\"feel good\\\" factor that Khar and Krishna laboured in their two-and-a-half hour talks to sustain optimism for continuing the talks was almost overturned by the acerbic Jethmalani.\\n\\nJust when everybody had finished the meals, he took the mike and praised former Pakistan President Pervez Musharraf. Not stopping at that, he then went on to attack China in the presence of Chinese ambassador Zhang Yan. He said China was an enemy of both countries and asked them to join and defeat the Beijing hegemony.\\n\\nAn embarrased High Commissioner Malik took mike from Jethmanali to clarify that these views were not shared by Pakistan. The Indian government too scrambled. Minister of State for Parliamentary Affairs Rajiv Shukla and Foreign Secretary Nirupama Rao were seen rushing to Chinese Ambassador\\u2019s table to clam his nerves and apologise for the remarks. Zhang was seated with the US charge d\\u2019 affairs Peter Burleigh.\\n\\nJethmalani even blushed the 34-year-old foreign minister of Pakistan, calling her charming lady. He said he had secured invitation for the dinner after looking at pictures of Khar in the morning newspapers.\\n\\nMeanwhile, Khar's visit to the dargah of Sufi saint Khwaja Moinuddin Chisty in Ajmer on Thursday before flying back to her country ran into difficulty. Her helicopter ride to Ajmer got delayed due to monsoon clouds around Jaipur.\\n\\nHer special Pakistan Air Force plane had earlier landed at Jaipur and waiting at the airport was an Indian Air Force helicopter to take her to Ajmer. She, however, could make it in the afternoon. She offered a \\\"Chadar' at the dargah and paid obeisance at Aastana Sharif. In the morning, she also visited the dargah of famous Sufi saint Nizamuddin\\n\\nBringing of Lolab, Bangus, Drangyari on the tourism map would open new vistas of tourism activities in the State and help to boost the local economy and provide a healthy environment for tourism trade in Kupwara district, which has been conferred a status of Tourism Development Authority.\\n\\nThe views were expressed by the Tourism and Culture Minister, Nawang Rigzin Jora while chairing maiden meeting of the Authority members held here on Thursday.\\n\\nMinister of State for Tourism and Culture, Nasir Aslam Wani, who was also Vice Chairman of LBDDA was present in the meeting.\\n\\nMr Jora said creation of tourism related infrastructure at these destinations would remain priority. He said this fiscal year Rs one crore under State sector is being expended on creation of varied infrastructure in these destinations, adding the Government would soon submit Rs 5 crore project for creation of modern tourist facilities at Lolab and Drangyari spots to the Centre for approval. He directed the concerned authorities to formulate more projects reports for approval of the Centre under central schemes so that holistic tourism infrastructure building would be ensured in the area.\\n\\nThe meeting deliberated upon the modalities, jurisdiction and infrastructure development under the Authority.\\n\\nThe legislators gave their view points and suggestions for exploring fully the tourism potential of their areas.\\n\\nMr Jora assured the legislators that focused attention would be given for promotion of tourism activities in all potential areas of the district in a phased manner, adding the matters like upgradation of road connectivity, electricity and drinking water facilities, besides land acquisition and forest matters would be taken up with concerned Ministries to solve impediments confronting for creation of tourism infrastructure facilities in the area.\\n\\nUniversity of Kashmir today organized second placement drive for \\\"Wipros Wista Programme\\\". In the placement drive, selected students will get MS Degree from VIT, Vellore and a confirmed job offer besides monthly stipend during the training period.\\n\\nIn the drive more than 200 students from various colleges registered online and a written test was conducted. The qualified students appearing in the HR interview around one fourth of the total who appeared for the interview were likely to be selected for various jobs.\\n\\nDr Mehraj-ud-Din Dar, Director, IT and SS expressed satisfaction with the event and said that the next placement drive will be held in September/October. He said that the placement drive for the engineering graduates is also under negotiation with Wipro.\\n\\nWednesday, July 27, 2011\\n\\nWith a view to create added infrastructure facilities at Aharbal tourist destination, State Tourism Department is going to submit Rs 9.56 crore Detailed Project Report (DPR) to Union Ministry of Tourism for approval, under which besides construction of other tourism related infrastructure, 20-room bud-geted accommodation would be also constructed.\\n\\nThis was stated by Tourism and Culture Minister, Nawang Rigzin Jora while chairing 3rd meeting of Aharbal Development Authority (ADA) held here today to review physical and financial achievements of the Authority.\\n\\nChief Executive Officer ADA presented a power-point presentation depicting physical and financial achieve-ments registered by the authority for development of varied tourism infrastructure facilities in the area.\\n\\nThe meeting approved current years action plan of Rs one crore for the authority and action taken report on decisions of 2nd meeting of ADA were also confirmed in the meeting.The meeting was informed that the exercise for formulation of Master Plan has been completed and base plans prepared. Due to inclusion of some more areas, the exercise would take some more time and draft Master Plan of ADA would be ready by this year.The meeting was told that the construction of cafeteria, four huts have been completed, and are ready for inauguration. It was also told that work on Rs 2 crore TRC building is in progress and would be completed during this financial year.The Chief Executive Officers also informed the meeting that Red Accounts of the authority upto May 2011 have been cleared and contingent bills laying under objection from April 2006 till date have been got adjusted and cleared from the books of accounts of Principal Accountant General A&E.The Minister laid stress on completion of all ongoing projects with judicious use of funds and quality material for laying durable and attractive infrastructure for the tourists. He also directed all Chief Executive Officers of the authorities to register number of tourists visiting at tourist spots under their jurisdiction.Minister for Social Welfare, Sakina Itoo, Minister of State for Tourism and Culture, Nasir Aslam Wani, Commissioner/Secretary Tourism and Culture, Atul Duloo, Director Tourism Kashmir, Farooq Ahmad Shah, Director General Finance, Mangotra, also attended the meeting.\\n\\nProminent Kashmiri separatist leader Ghulam Nabi Fai who was produced before a US court today has been released on US $100,000 bond.\\nFai, who appeared before the US District Court in Alexandria, Virginia for a detention hearing today, was released into the custody of his wife and placed under home detention.\\nThe FBI, which arrested Fai last week on charges of being an ISI agent who lobbied for Pakistan on the Kashmir issue in the US, had carried extensive search of his home in Fairfax, Virginia \\u2013 a suburb of Washington \\u2013 and the office of Kashmir American Council (KAC) in Washington, a few blocks away from the White House.\\n62-year-old Fai, headed KAC, which espoused the cause of Pakistan on Kashmir and campaigned against India in the US.\\nUS Attorney Gordon Kromberg informed the Alexandria court and defence attorney that he \\\"intends to offer into evidence\\\" or even disclose in proceedings information obtained and derived from electronic surveillance and physical search conducted under the Foreign Intelligence Surveillance Act.\\nThe FBI has alleged that Fai received money from the Government of Pakistan, the ISI in particular, to lobby on their behalf in the US.\\nFBI says he violated the law as he did not register himself or the KAC as registered agent for foreign government.\\nWhile neither the FBI nor the Department of Justice were willing to divulge any details of the material seized from his home and office.\\nHowever, it is learnt that federal agencies have obtained huge cache of material from Fai's residence and office which would strengthen its point that Fai worked for the foreign government in violation of the rule of the land.\\nUS will not let Kashmiris down: Fai\\nGhulam Nabi Fai, charged with illegally lobbying for Pakistan and its spy agency ISI to influence US policy on Kashmir, has said that people of Kashmir have no reason to fear from America.\\n\\\"I say with fullest possible consciousness that the people of Kashmir have no reason to fear that the world powers in general, and the United States in particular, will let them down,\\\" Fai said in a written statement.\\n62-year-old Fai's attorney Khurram Wahid distributed copies of the written statement of the separatist Kashmiri leader after he was ordered to be released from prison and instead put under house arrest under electronic surveillance by a US District court judge.\\n\\\"It has been my lifelong commitment to the people of the state of Jammu and Kashmir, irrespective of their religious background and cultural affiliations to help achieve the right of self-determination to decide their future. God willing I will continue to do that in days, weeks, months and years to come,\\\" Fai said.\\nIn the statement, Fai lauded the traditional support of the United States to the basic principles of fundamental freedoms and democratic process and President Barack Obama's vision about the region of South Asia.\\nWahid said that the statement was prepared after the court's order of his house arrest.\\n\\nPir Panjal Range and the mountainous area falling within the Jurisdiction of Rajouri and Poonch districts is dotted with several exotic lakes of which Konser Naag is one. Konser Naag lake is considered to be holy by many people. With the beginning of the month of 'Shravan' Konser Naag Yatra for the current year commenced from July 19 and the Yatra culminated with the return of pilgrims on July 21. Indian Army for the welfare of the locals of insurgency affected areas of J&K arranged a pilgrimage to Konsar Naag lake in the higher reaches of Pir Panjal belt.\\n\\nA total of 155 civilians including 137 males, 16 females and 2 children participated in the Yatra. The Yatra by road passed through Chasana, Mamankote and Ichni. The responsibility of security of the devotees was given to Rashtriya Rifle battalion at Samote under aegis of Counter Insurgency Force (Uniform). The battalion deployed more than 100 Army personnel. Besides Army, Police was also involved in the security of the Yatra. DySP Reasi inspected the site to inspect the security arrangements. Protection parties were deployed at various locations of Lungatung, Mamankote, Ichni, Malikot and Katgali by the Army.\\n\\nA medical team was also provided for medical cover to the pilgrims. The pilgrims expressed their gratitude towards Army for providing them the medical facility and security arrangements enroute.\\n\\n\\\"Diabetes India\\\", an internationally reputed organization of Diabetes professionals, researchers and diabetologists, in collaborations with \\\"Merch Serono\\\", a Multinational Company (MNC), today launched for the first time in India, an All- India project on \\\"Diabetic Foot\\\" which will prepare a detailed guideline document for evaluation and management of diabetes related problems affecting the feet in Indian population.\\n\\nThe project was formally launched by Dr. Jitendra Singh, National Executive Member \\\"Diabetes India\\\" and nationally known Professor cum author of Diabetes, at a press conference in the presence of Merck Regional Sales Manager Anil Dubey and Area Business Manager Manoj Sharma.\\n\\nIn his address, Dr. Jitendra Singh said that there is virtually a diabetes epidemic sweeping the globe and even in Jammu and surrounding areas the prevalence of Diabetes is over 15 percent. The major challenge for the next decade would be diabetes in the young as more and more people in younger age group get afflicted by Diabetes and need to be protected from complications of heart, kidneys and eyes for longer number of years, added.\\n\\nDr. Jitendra Singh said that \\\"Diabetes India\\\" has earned for itself a place in the world arena for having pioneered several diabetes research initiatives in the past and for also starting free insulin schemes for poor children across the country. It was in recognition of Diabetes India's distinguished achievements in the field of diabetes research that Merck Serona, a reputed MNC had come forward to collaborate on an All India Project on \\\"Diabetic Foot\\\", he added.\\n\\nHighlighting the importance of the project, Dr. Jitendra Singh said it is an irony that the commonest cause of foot amputation in India next to accidents is diabetes although it is a totally preventable cause. Dr. Jitendra Singh said that diabetic neuropathy causing numbness and lack of sensation in feet is as common as over 60 to 70 % in diabetes patients and also constitutes major factor for foot injuries, foot ulcers and foot infections in Diabetes.\\n\\nDr. Jitendra Singh informed that in the Diabetic Foot Project, a mass survey will be undertaken across the country to assess the level of diabetic foot problem and the local medical practitioners will be asked to fill a questionnaire which will form basis of treatment guidelines in the Indian setting.\\n\\nHe said a 14 member diabetoligists penal across India has been constituted and he was appointed incharge North India.\\n\\nSelling Amritsari shawls in the name of Kashmiri shawls outside State is a common thing. But selling them in Kashmir in exhibition is unheard of.\\n\\nThe exhibition on the bank of Dal lake in Tangbagh is going on for past two weeks and it is selling Amritsari branded as Kashmiri shawls. \\\"The stall holders sell cosmetics, garments and other things. There are some who sell Amratsari shawls in the name of Kashmir. This is a malpractice and needs to be stopped. This brings disrepute to Kashmir and Kashmiri shawl businessmen,\\\" said Javed Ahmad, a shawl businessman.\\n\\n\\\"Kashmir is known for its shawls and other handmade articles, but exhibitions like the one going on at Tangbagh are not good for the health of Kashmir art. It is imperative that such exhibitions are properly monitored and the violators are accounted for their actions,\\\" said Mohammad Ayub, another shawl businessman.\\n\\nThe shawl businessmen demanded that Department of Handicrafts should immediately carry out raids on the exhibition so that action is taken against the violators.\\n\\nThe person organizing the exhibition is going to organize similar exhibitions at Doda and Kargil areas. The shawl businessmen apprehend that he might carry out the malpractice at these exhibitions as well.\\n\\nWhen contacted Director Handicrafts, Munshi Muzaffar Hussain said he would depute a team of the officials to the exhibition. He said the Handicrafts Department will ensure that quality is maintained as far as sale of shawls is concerned.\\n\\nThe Drug Controller authorities today raided \\u2018Vishwa Swasthya Dham\\u2019 at Ragunath Bazaar and handed over a questionnaire to its owner Madan Lal Aggarwal alias Bania, who claimed to be running a health center having treatment of various diseases.\\n\\nA strong pose of Drug Controller authorities joined by protection teams of police officers raided \\u2018Vishwa Swasthya Dham\\u2019 of Bania at Ragunath Bazaar and wanted to know about the source of experience gained by him in treating diseases, authorization for treatment, raw material used in the \\u2018drugs\\u2019 given by him to the patients and equipments used in his laboratory and the health center.\\n\\nAfter subjecting Aggarwal to questioning for several hours, the Drug Controller authorities handed him over a questionnaire with a direction to submit a detailed reply to it within two days failing which action under law would be taken against him.\\n\\nOfficial sources said Aggarwal told the raiding teams that he had shut down his \\u2018Swasthya Dham\\u2019. However, he was asked if his health center was legal and drugs prescribed by him were genuine then why he had closed the center. To this, Bania had now answer, they added.\\n\\nAuthorities said they would wait Bania\\u2019s reply for next two days before initiating action against him.\\n\\nAssistant Controller, Drugs, Surinder Tickoo led the Drugs team in the operation while police protection was given by SP City (North) Jatinder Singh Johar, SDPO City S S Samyal and SHO City Vishal Sharma.\\n\\nThe holy mace (Chhari Mubarak) of Shri Amarnath Ji will be taken from Dashnami Akhara, Srinagar to holy cave shrine of Shri Amarnath Ji by Mahant Depender Giri Ji Mahraj on August 8 morning.\\n\\nInforming this to Excelsior today Mahant Ji said that on its way to holy cave the Chhari poojan will be held at all the haltage places were the Chhari Mubarak prior to onset of militancy in the Valley used to stay for the night.\\n\\nHe said enroute to holy cave from Dashnami Akhara, Chhari Poojan will be held at Durga Nag temple, Pampore, Awantipora, Bijbehara, Nagbal Anantnag, Mattan, (Martand), Ganeshpora, Aishmuqam respectively and it will reach late in the evening to Pahalgam.\\n\\nHe said the holy mace after two days stay at Pahalgam i.e on August 8 and 9 will leave for Chandanwari next day. It will have a night halt at Chandanwari on August 10, Sheshnag on August 11 and Panjtarni on August 12. At all these places the Chhari Poojan will be performed in the traditional way, he added.\\n\\nHe said the holy mace will leave for darshan to cave shrine from Panjtarni on Shrawan Purnima falling on August 13 and after the performance of darshan it will return from the traditional route to Pahalgam and later to Dashnami Akhara Srinagar.\\n\\nWith this the 46 day-long holy Amarnath pilgrimage which started on June 29 will culminate. Besides Mahant Deepender Giri the Chhari Mubarak will be accompanied by a large number of Sadhus and devotees.\\n\\nPrior to leaving for holy cave on August 8 the holy mace will be taken to historical Shankaracharya temple from Dashnami Akhara, Srinagar by Mahant Ji on Shrawan Amavasiya falling on July 30 for the traditional Chhari Poojan. It will return back to Dashnami Akhara in the evening.\\n\\nNext day on July 31the holy mace will be taken to Sharika Bhawani temple Parbat in Srinagar for the Chhari poojan while on August 2 the Chhari Sthapana will be performed at Dashnami Akhara by Mahant Ji and other Sants.\\n\\nTo keep the centuries old tradition alive later on Naag Panchmi falling on August 4, the Chhari Poojan will again be performed at Dashnami Akhara Srinagar by the Mahant Ji and Sants.\\n\\nMeanwhile, on the 29th day of yatra today 5,897 pilgrims left for holy cave from base camps of Nunwan and Baltal today. According to a Yatra Officer, 3,142 pilgrims left via shortest Baltal track while 2,755 left via traditional Nunwan Chandanwari route.\\n\\nHe said besides hundreds of pilgrims who had stayed for night at Sheshnag and Panjtarni also left for their onwards sojourn this morning.\\n\\nHe said 8,000 pilgrims performed their obeisance in holy cave till late tonight, while 5, 80, 625 pilgrims had performed darshan in holy cave till late last night. With this total number of pilgrims visiting the holy cave in last 29 days has touched 5, 88, 625. The yatra will likely touch 6 lakh mark tomorrow and this will be the highest number of pilgrims ever visiting the holy cave in a single year for darshan, he added.\\n\\nAll the pilgrims are in an upbeat mood and the yatra is progressing smoothly, he said.\\n\\nBesides 28th batch of 911 pilgrims left for the holy cave under the tight security arrangements from Bhagwati Nagar Yatri Niwas Jammu this morning.\\n\\nComprising 472 males, 132 females, 10 children and 297 Sadhus, these pilgrims left in a cavalcade of 27 vehicles. They had reached to Nunwan and Baltal base camps in Anantnag and Ganderbal districts respectively till last reports came in where from they will leave for cave shrine at the height of 13500 feet in deep Himalayas next morning.\\n\\nThe Governor, who is the Chairman of the Shri Amarnathji Shrine Board, reiterated his earlier directions about the effective maintenance of sanitation and cleanliness at all the camps in the yatra area and, besides, cleanliness along both the yatra routes. The CEO informed that a good number of workers are currently engaged for carrying out cleaning on round the clock basis and, besides, all the camp directors have been asked to launch a week long special cleanliness drive in their respective camps and ensure the appropriate disposal of all bio-degradable and non-bio-degradable wastes. The Governor asked the CEO to ensure that all the camps are cleared of all types of solid wastes by 20th August i.e. within a week of the conclusion of the Yatra. The Governor observed that he shall be personally visiting all the camps in the coming days to view the level of cleanliness.\\n\\nMr Goyal informed the Governor that the officials of the Shrine Board, various State Government Departments, Army, Para-military Forces and the State Police have been performing their duties in close coordination, for the smooth conduct of the pilgrimage. He added that the Shrine Board would be undertaking a Post-Yatra Review involving senior officials of each of the concerned agencies soon after the conclusion of the Yatra with a view to eliciting their views and suggestions for bringing about progressive improvements in the future Yatras.\\n\\nShe made it clear that Pakistan has no interest to return to former president Pervez Musahrraf\\u2019s four-point formula or any other recipe that is seen as undesirable by the Kashmiri separatist leadership. She said Pakistan will not override sentiments and aspirations of people of Jammu and Kashmir.\\n\\nGeelani also told her at the Pakistan High Commission here in a 90-minute interaction that Pakistan\\u2019s internal situation was a source of concern for him as well as Kashmiris back home and wanted to know what steps its government is taking to stop frequent attacks on its cities and people.\\n\\nTwo delegations, one led by Geelani and another by a seven-member team of moderate faction of the Hurriyat Conference led by Mirwaiz Umar Farooq met Khar separately.\\n\\nChairman of moderate faction of Hurriyat Conference said dialogue and bullets cannot go hand-in-hand. He said onus for progress on the issue of Jammu and Kashmir squarely lies with New Delhi, as it has to show some accommodation in Kashmir.\\n\\nTalking to reporters, after his group met Pakistan Foreign Minister, he said that Kashmir was not a bilateral issue, but concerned people of Kashmir. He also called for inclusion of voice and aspirations of people in the discourse.\\n\\nReminding that his faction was never against talks as they had held meetings with Prime Minister Dr. Manmohan Singh and earlier L. K. Advani, when he was deputy prime minister, Mirwaiz said \\\"we backed out when we saw nothing was moving ahead.\\\" He asked India to come out of Mumbai syndrome and talk on other matters substantively. Admitting that issue of Kashmir was complex and difficult, but said the progress on the issue was necessary for peace.\\n\\nFAI'S ARREST: Mirwaiz told reporters that his delegation shared its concern with the Pakistani foreign minister over the arrest of Kashmiri American Council's chief Dr Ghulam Nabi Fai in Washington last week dubbing him as an ISI agent.\\n\\nHe said such acts are \\\"shrinking constituency of peace\\\" while everyone is interested in a peaceful solution of the Kashmir dispute.\\n\\nGeelani told the Pakistani minister that he was not against dialogue but history has shown that India uses the instrument of dialogue only to \\\"hoodwink\\\" the world opinion and impose a more restrictive regime in Kashmir.\\n\\n\\\"We are given no space even to breathe. I was under house arrest for over past 10 days. Even orders of judiciary are openly flaunted. India\\u2019s attitude becomes harsher under the garb of dialogue with Pakistan,\\\" he told reporters after his meeting.\\n\\nThough he accepted Pakistan\\u2019s support to Kashmir cause and its ramifications on the country, Geelani said he advised the Pakistani minister not to take any hasty step. \\\"Any solution in haste and a compromise will not be acceptable to us,\\\" he said, pointing out that Kashmir is not just a border dispute but it concerns the people.\\n\\nHe called for inclusion of genuine Kashmiri leadership to make dialogue \\\"purposeful\\\" and \\\"meaningful.\\\" He said the Pakistan foreign minister agreed that for the credibility of the dialogue process to make it result-oriented the Kashmiri leadership should also be involved in the process.\\n\\nGeelani also asked Pakistan to attend its domestic problems in Baluchistan, Karachi and the issue of Taliban, who are frequently attacking its cities and people. He said Pakistan\\u2019s internal situation was a source of concern for him as well as Kashmiris back home.\\n\\nHe also touched the raw nerve of Pakistan, saying his right to self determination involves not only Hindus and Budhists in Jammu and Kashmir but also the areas of Gilgit, Baltistan and Muzaffarabad as well, whom Pakistan calls Azad Kashmir.\\n\\nExpressing concern at the internal situation of Pakistan, he told Pakistani government to gurantee and work towards protecting life and property of people in Baluchistan. \\\"Only your development works of words are not enough,\\\" he said. He also had a piece of advice on targeting killing in Karachi. \\\"Why you are not confiscating arms and ammunition in that city?\\\" he asked the Pak minister. He also said while the acts of Taliban were unacceptable as per human and Islamic values, Islamabad should settle the issue through dialogue and reconciliation.\\n\\nThe Union Minister for Power KC Venugopal along with the Minister of State for Power and CAPD Shabir Ahmad Khan today visited 45 MW Alchi hydel project to carry out on the spot inspection of the prestigious power project.\\n\\nMr. Venugopal said that Alchi Hydel Station will have a unique position on completion as it is going to be world's highest altitude Power Station.He appreciated the NHPC management for taking the challenge of its construction in tough terrains and inhospitable weather.\\n\\nAssuring full support of his Ministry in the successful completion of the project, he said the Alchi project on operation would be instrumental for economic growth of the region as it will cater to the varied energy needs of the consumers.\\n\\nShabir Ahmad Khan said that after completion of this project, both civilian and defense establishments will be benefitted in a big way, adding the project would ensure dependable power supply to the consumers as well as industrial concerns.\\n\\nKhan said to sort out issues regarding laying of transmission line, diversion of river Indus and remaining mechanical works of the project, a meeting will be held at Srinagar shortly.\\n\\nThe Chief Engineer, NHPC, JK Sharma gave a power point presentation to the Ministers, highlighting the salient features of 45 MW Alchi hydel project. He said that this project will be commissioned by July 2012.\\n\\nDuring their visit to Alchi Hydel Project, Mr. Venugopal also inaugurated a steel truss bridge having span of 60 meters over river Indus, which has been constructed to facilitate supply of construction material to Alchi Hydel project.\\n\\nThe Ministers also visited the world famous 1000 years old Alchi Monastery.\\n\\nIn a significant development, Germany has revised the travel advisory through its Federal Foreign Office for German nationals traveling to the Jammu and Kashmir.\\n\\nGermany has issued a new travel advisory by stating, \\u201cJammu and Kashmir was considerably calm and foreigners were generally not the direct target.\\u201d\\n\\nGermany has become the first country to modify its travel advisory for tourists visiting Kashmir. \\\"The travel advisory issued by the FFO (Federal Foreign Office) for German nationals traveling to the region (Kashmir) has been revised,\\\" German embassy spokesman Jens Urban on record has said.\\n\\nMost of the stake holders here believe that the revisiting of the advisory by German Foreign office is expected to give a major flip to revive tourism in the state. Hailing the revision by Germany, Director Tourism Kashmir, Farooq Ahmad Shah told Kashmir Times that it was much need as far as tourism sector of Jammu and Kashmir is oncerned. \\u201cIt is a great step, I am optimistic about the other European countries,\\u201d Shah added.\\n\\nCheerfully, President Travel Agents' Association of Kashmir (TAAK) Rauf Tramboo said that it is a joyous moment for all the tourism related stake holders of the state. Echoing similar view on an optimism note he believes that other European and other western countries would follows the suit by revisiting their travel advisories for their nationals.\\n\\nWhile welcoming the move of Federal Foreign Office of German by easing the travel advisory for their national desirous to visit Kashmir, President, Kashmir Hotel And Restaurant Association (KHARA), Siraj Ahmad said that the hotel owners fraternity is happy over it. \\u201cThe move would help the state in along way and this is a significant development for Kashmir tourism,\\u201d he adds.\\n\\nIt is the collective responsibility of us all to make the state a prosperous one as it has abundant tourism potential which needs to be tapped in a right way for boosting the economy, Siraj said.\\n\\nKashmir is not only famous for its leisure tourism but it has great tourism potential in other products, which being developed and showcased in a proper manner. Besides, promotion of pilgrim tourism, golf tourism needs also to be promoted in a big way.\\n\\nWorth mentioning, that the decision has been taken after the visit of Ambassador Thomas Matussek, to Kashmir in June 2011.\\n\\nA four-day long teacher training workshop on English language teaching (ELT) for college and university teachers organized by the Department of English, University of Kashmir (KU), in collaboration with Cambridge University Press began here today.\\n\\nMore than 30 teachers from various degree colleges, university departments are participating in the workshop, seventh of its kind organized since 2007 by the department .The workshop will be conducted by Dr C L Prakash from Bangalore , Prof Muhammad Aslam of English Department KU and Dr Beena Menon from Pune.\\n\\nInaugurating the workshop today in the Gnahndi Bhwan hall of the varsity Vice chancellor Kashmir University Prof Talat Ahmad lauded the efforts of the department of English for frequently holding ELT workshops which he said are essential for updating the teachers regarding new trends in English language teaching. The VC, who presided the inaugural session, underlined the need for starting short term courses in writing and communication skills at Kashmir University.. Prof Talat while thanking the Cambridge University Press for their collaboration expressed hope that in the upcoming workshops of such nature there is large participation from college and higher secondary teachers .\\n\\nWorkshop coordinator Prof Mohammad Aslam in his welcome address said that his department believes in teacher development through interaction and collaboration and during the present ELT workshop the teachers will share their experiences with each other and with the resource persons to overcome any difficulties in teaching English in their classes . Dr Aslam, further said that the department provides a platform through these workshops to teachers so that they actively engage themselves in practical class room activity to enhance their teaching skills .we are working on a plan to start part time diploma course in English speaking , he informed the audience which comprised of students , scholars and the teachers from university and affiliated colleges.\\n\\nProf A R Yusuf dean academic affairs who was the chief guest on the occasion talked about the influence of computers , internet and short message service (SMS) services on language. Prof Yousuf looked forward to a broader role of the members of English department to train the teachers , students and scholars in English lan-guage teaching. He urged the English department to continue organizing such workshop which are aimed at development of teachers.\\n\\nSenior faculty of the English department including Prof A H Tak besides deans and heads of the various KU faculties and departments were present at the inaugural meet.\\n\\nDr Ifat Maqbool ,faculty department of English conducted the proceeding of the workshop.\\n\\nThere has been a slight decline in yatra rush to holy cave of Shri Amarnath Ji during the last few days. While over 20,000 pilgrims were performing darshan in the holy cave daily over the past few days, the number has now come down to10,000.\\n\\nAccording to a Yatra Officer, there has been a considerable decline in yatra rush for last couple of days. He said 9,345 pilgrims left for darshan of Ice Shivlingam in the holy cave of Shri Amarnath Ji in deep Himalayas today from Baltal and Nunwan-Pahalgam base camps.\\n\\nOut of them, 5,993 pilgrims left via shortest Baltal track while 3,352 left via traditional Nunwan Pahalgam route, he said, adding the weather remained dry but cloudy in the enitre yatra area for the whole day.\\n\\nHe said thousands of pilgrims, who had reached Sheshnag and Panjtarni late last night, also left for their onwards sojourn this morning. While those who left from Panjtarni performed darshan of Ice Shivlingam by late tonight those from Sheshnag were on their way to the holy cave.\\n\\nThe yatris who could not reach holy cave till late in the evening will have a night halt at Panjtarni where from they will proceed for darshan early tomorrow morning, he added.\\n\\nHe said despite the inclement weather conditions, the yatra was proceeding smoothly and the pilgrims were in good spirit and fully satisfied with the arrangements.\\n\\nThe Yatra Officer said that as per available figures, 5,59,746 pilgrims performed darshan at the holy cave till late last night from the two tracks.\\n\\nThe Yatra Officer said as per the figures available 2,49,800 yatris visited the cave shrine Pahalgam while 2,94,633 went via Baltal. Out of them, 5,37,662 pilgrims have returned till date. However, the majority of pilgrims preferred to return via Baltal track, he added.\\n\\nHe said 12,453 pilgrims performed darshan in cave shrine till late tonight. With this, the total number of pilgrims performing darshan of Ice Shivlingam has touched 5,72,197, he added.\\n\\nComprising 796 males, 329 females, 19 children and 272 Sadhus, they left in a cavalcade of 43 vehicles at 5 am. These yatris had reached Manigam camp in Ganderbal district in Central Kashmir and Nunwan-Pahalgam base camp in South Kashmir district of Anantnag till last reports came in. These pilgrims will leave for the cave shrine early next morning.\\n\\nMeanwhile, Shri Amarnath Shrine Board (SASB) has urged the yatris to ascertain the weather conditions in the yatra area before embarking on pilgrimage. Besides, the yatris were also advised to have proper medical check up before leaving for pilgrimage in the hilly terrain and arduous area.\\n\\nIt may be recalled that in view of 83 deaths during last 27 days of pilgrimage, the Shrine Board has decided to focus on medicare facilities of yatris fully to avoid more loss of lives.\\n\\nThe 46 day long annual holy Amarnath yatra, which started on June 29, will culminate on Shrawan Purnima falling on August 13, the day coinciding with Raksha Bandhan.\\n\\nUnion Minister for Human Resource Development Kapil Sibal on Monday informed the Chief Minister Omar Abdullah that the Central University, Jammu will soon have a Vice Chancellor.\\n\\nChief Minister Omar Abdullah, who called up the Union Minister for Human Resource Development Kapil Sibal this afternoon to impress upon him to take a decision on the issue of the appointment of the Vice Chancellor for the Central University Jammu at the earliest, was assured by Kapil Sibal that the Central University Vice Chancellor will be appointed soon, according to an official release.\\n\\nOmar urged the Union Minister to take all possible steps to start the academic session in the Jammu Central University. The setting up of the Central University, being a central subject, the Chief Minister apprised the Union Minister that more than 4,000 kanals of land has already been allotted for the University campus by the State Government and so the appointment of Vice Chancellor and other academic / administrative staff will kick start the process of setting up of the campus as well, besides the starting of the academic session which of course is of immediate importance.\\n\\nThe Union Minister assured the Chief Minister that the Union Government will take all possible steps to fast track the process of setting up of the Central University Jammu on the pattern of other Central Universities coming up across the country.\\n\\nThursday, July 14, 2011\\n\\nHundreds of devotees drawn from different parts of Kashmir Valley and Jammu today participated in the annual Mela of Mata Jawala Ji at Khrew in Pulwama district in South Kashmir and paid the obeisance to their presiding deity.\\n\\nOn the occasion a Maha Yagya was also performed at the holy shrine and the devotees were served with prasad after Puranahuti. The hawan started yesterday evening and Puranahuti was performed this afternoon.\\n\\nThis was followed by pooja -archana by the devotees. A samohik aarti was also held for well being of mankind and restoration of peace in the trouble\\u2013torn Valley. To maintain the tradition the devotees also offered Tahar (yellow rice) to the deity.\\n\\nThe annual mela is held at the shrine of Jawala Ji since times immemorial on the occasion of Har Chaturdashi (Har Chawdah) every year and thousands of pilgrims drawn from different parts of country used to visit the shrine prior to mass migration of Pandits from Valley in 1989-90. However during the last few years the pilgrims have started visiting the shrine in large numbers.\\n\\nOn the occasion religious discourses were also given by Pt Pushkar Nath Ji who threw light on the religious significance of the Har Chaturdashi. The langer to the devotees was served by local army unit. Ravi Ji Bhat and Bharat Bhat of local Biradri also spoke on the occasion. A photo exhibition of Swami Jeewan Sahib a medieval period spiritual saint of Kashmir was also held at the shrine.\\n\\nAn increasing tourist rush in the valley is proving to be costlier for locals who wish to travel by air owing to an all time high air fares which on the other hand is not proving to be beneficial for the travel agents too.\\n\\nAir travel has jumped twice/ thrice of its original rates with a boost in the tourists influx. Subsequently, some locals who are not able to afford the air travel have to now travel by road as the prices of tickets are too high and the reservations are being made months before.\\n\\nMahipal Singh, a tourist told Kashmir Times, \\u201cI paid around Rs 40,000 from Chandigarh for a round trip for myself and three more family members. The prices are very high but we still managed to get a discount by the government agency office.\\u201d\\n\\nMeanwhile, the valley based travel and tourism agents say that they have not been able to derive any benefits from air fare hike since the tourists get their tickets reserved from outside J&K which includes a two way trip.\\n\\n\\u201cPrices are going as high as Rs 10,000 to Rs 12,000 for a one way trip, and the lowest these days are around Rs 5,000,\\u201d said Nasir Khan, from Shiraz Travel agency\\u201cIts not proving beneficial for us since the tourist generally make a round trip reservation from outside, so more of tourists and hike in air tickets is doing us no good,\\u201d he added. However agreeing to the change of prices due to the inflow of tourists he also added that rise in prices also mean that the locals of Kashmir have to suffer since they can not afford such exorbitant prices for air tickets. In such cases they prefer traveling by other means of transport like by road or stopping halfway in Jammu and then further taking a train to Delhi.\\n\\n\\u201cThe traffic on the highway has increased over the months. One reason being it is the tourist season in Kashmir and other reason being the rise in prices of air ticket,\\u201d the tourism department officials said.\\n\\nA scholar at Kashmir University\\u2019s biochemistry department today alleged that he is being harassed by the authorities for seeking information under RTI.\\n\\nThe student, Arif Ahmad, alleged that he has been thrashed several times and was denied entry to the laboratory for seeking information about eligibility criteria for selection of Junior Research Fellow in the department of Immunology at SKIMS. The immunology department, Arif alleged, has selected an influential candidate in violation of the criteria.\\n\\n\\u201cAfter advertising the post, SKIMS selected an influential candidate. It was done in violation of the criteria so I submitted an application for information about selection process.\\n\\n\\u201cNext day, I was called to the department of biochemistry KU where three professors caged me in a room and in their presence the brother of the candidate beat me up. I was released only after I called the registrar,\\u201d Arif told Kashmir Times.\\n\\nArif said he was offered a monthly remuneration of Rs 18000 per month by the department for putting an end to the issue and for withdrawing the RTI application.\\n\\nHowever, according to Arif, he turned down the offer that prompted the authorities to deny him entry into the laboratory.\\n\\n\\u201cI wrote a letter to the registrar who referred it to the department. And surprisingly the department blamed me for not submitting the synopsis,\\u201d he alleged.\\n\\nThe blame forced the scholar to file an RTI application in the University seeking information about the number of scholars selected in the biochemistry department this year. But it landed him in more trouble, he said.\\n\\n\\u201cWhen I went to collect the information, I was told that it is incomplete. And they asked me to go to the HoD biochemistry\\u2019s office. But as I was leaving the office, chief proctor caught me from the neck and shoved me into his chamber.\\n\\n\\u201cThere he asked the female staff to leave and closed the door. Afterwards he and his uniformed men beat me up for about an hour. Finally they called the security officer and lied to him that I had assaulted the chief proctor,\\u201d Arif alleged. The scholar has submitted a complaint in the office of chief information commissioner who, according to the officials, has sent a show cause notice to the varsity authorities.\\n\\nHe has also sent a written application to the Superintendent of Police Hazratbal, but so for there has been no response.Arif alleged that the varsity officials are not allowing him to meet the vice chancellor while \\u201cthe police are also siding with the varsity.\\u201d\\n\\n\\u201cThe SP or the SHO are not responding to my complaint despite repeated pleas. I tried several times to meet the VC but the chief proctor and his allies have strictly instructed VC\\u2019s special secretary to prevent me from meeting him,\\u201d he alleged.\\n\\nArif said he is mulling to approach the State Human Rights Commission for justice in the case.\\n\\nWhen contacted, the registrar KU, Prof S Fayaz, termed issue as \\u201cscholar\\u2019s misgiving.\\u201d\\u201cSo far RTI is concerned, there is a proper procedure in place and we have no reason to deny information to anyone. Regarding the harassment allegations I do not think the university professors will harass or beat up anyone,\\u201d he said.\\n\\nCall it a total mismanagement of affairs or a half- hearted exercise of Board of School Education (BoSE) and Kashmir University, around 7000 students who took their Annual 12th class examinations (private) in March 2011 are being forced to waste one precious year of their academic session. It was BoSE which first delayed the conduct of examinations by at least three months and now Kashmir University which is not ready to take in these students to various colleges of the valley.\\n\\nInterestingly, the results of the 12th Annual Examinations were declared by BoSE on June 28, whereas the college admissions were closed on July 1. As such, students were left with just two days to get all the required documents and complete the formalities, which by no means were possible.\\n\\nStudents further alleged that the authorities in various colleges were admitting the regular candidates but when it came to private candidates, their applications were rejected at once.\\n\\nThis poses a serious threat to the careers of thousands of such students with another year being wasted from their academic session.\\n\\n\\u201cFor private candidates, this delay can turn out to be more serious as we have already a year\\u2019s gap and now one more year could jeopardize our careers,\\u201d Suhail, a student told Kashmir times.\\n\\nCaught in the middle of this official apathy, the students, who are running from pillar to post have been further insulted by Jammu and Kashmir Police, when they tried to meet authorities at Civil Secretariat, Srinagar on July 6.\\n\\nNot only did the policemen allegedly beat the students, they arrested several students including the girls and lodged them in the police station. However, this has barely brought down the enthusiasm among the students as their delegation told KTNS that nothing could come in their way of making sure that one year of academic session does not go waste.\\n\\nAt the expense of insensitivity of the authorities, students are being made to chase after University, college and administration officials.\\n\\nThousands of these students alleged that after Board of School Education (BoSE), it is now Kashmir University which instead of doing its job, is asking the students to seek admission from various colleges in the valley.\\n\\nInterestingly, the letter seeking the redress of students concerns written by Kashmir University to Commissioner Secretary Higher Education and Director Colleges according to students did not even reach there and it was only after student intervention that the matter was taken up before higher authorities.\\n\\n\\u201cInitially the delay in the conduct of examinations, then the delay in results by Board of School Education and now KU officials instead of taking care of the college admissions are dictating terms and asking us to approach colleges on an individual basis. If we would have relied on the words of University authorities, the process would have been completely halted,\\u201d Iqra, a grieved student asserted.\\n\\nThough students managed to reach out to the Principal, Gandhi Memorial College requesting him to spare some seats for them to which the latter consented, however the students allege that the University has been laidback in its approach in following up the case.\\n\\nPertinently, this serious matter has not even reached the offices of Commissioner Secretary Higher Education and Director Colleges even if the University officials claim to have written to them.\\n\\n\\u201cUniversity alone is not gong to solve this problem. The state government through the concerned authorities should direct the 36 colleges of the valley to makes some sort of arrangements for these thousands. We completely empathise with these students and do not want their precious years to go waste. However, we are already in the process of beginning new examination sessions and almost 40 percent of the syllabi has been completed. This is making their adjustment a little difficult. If the government gives a go ahead signal to the colleges to restart their sessions, University has no objections whatsoever,\\u201d Dr Nissar Mir, Deputy Registrar, Kashmir University said.\"\n        ],\n        \"semantic_type\": \"\",\n        \"description\": \"\"\n      }\n    },\n    {\n      \"column\": \"tokenized_text\",\n      \"properties\": {\n        \"dtype\": \"string\",\n        \"num_unique_values\": 30688,\n        \"samples\": [\n          \"[101, 154, 131, 112, 18432, 112, 1110, 1136, 27430, 1895, 1106, 2076, 112, 18432, 112, 7353, 146, 1821, 1207, 1106, 26285, 5552, 123, 117, 1105, 26285, 5552, 1112, 1218, 117, 1105, 146, 1821, 1919, 1154, 1142, 2486, 2272, 1106, 11323, 119, 146, 1138, 1142, 4956, 1271, 13196, 119, 1555, 119, 189, 1116, 13757, 196, 1130, 16811, 1895, 198, 1121, 112, 137, 17553, 120, 4160, 112, 132, 13757, 196, 12556, 7641, 1513, 198, 1121, 112, 119, 120, 13196, 119, 9127, 112, 132, 137, 1130, 16811, 1895, 113, 114, 10107, 1705, 12556, 7641, 1513, 1708, 1200, 14301, 196, 1243, 2107, 5412, 11806, 113, 114, 131, 18432, 133, 12556, 7641, 1513, 164, 166, 135, 196, 120, 120, 16972, 2137, 2346, 131, 156, 18548, 1106, 170, 1842, 1555, 119, 1862, 18432, 119, 10820, 113, 164, 196, 190, 6904, 1181, 131, 107, 3087, 107, 117, 2076, 131, 107, 18257, 3354, 3354, 1161, 107, 198, 166, 114, 132, 198, 198, 5979, 1840, 13196, 119, 9127, 1134, 2515, 1142, 3463, 131, 10107, 1705, 12556, 7641, 1513, 196, 190, 16423, 131, 5101, 134, 112, 1288, 7629, 112, 132, 2076, 131, 5101, 134, 112, 18430, 1658, 4165, 5674, 21222, 112, 132, 120, 120, 21824, 1116, 12556, 7641, 1513, 1708, 7841, 1116, 1106, 15412, 4841, 3702, 7641, 2897, 131, 196, 164, 2501, 131, 5101, 166, 131, 164, 12556, 7641, 1513, 166, 198, 134, 196, 198, 132, 198, 1252, 1919, 183, 9952, 3816, 5166, 1142, 7353, 1106, 1143, 131, 6902, 112, 18432, 133, 196, 190, 6904, 1181, 131, 5101, 132, 2076, 131, 5101, 132, 198, 164, 102]\",\n          \"[101, 158, 119, 23639, 20645, 6208, 158, 119, 23639, 20645, 6208, 1336, 5991, 1106, 131, 158, 2180, 2528, 14968, 23639, 20645, 6208, 117, 1103, 2221, 118, 26808, 1181, 10322, 8689, 117, 170, 5285, 1530, 158, 10595, 8558, 10340, 1548, 23639, 20645, 6208, 117, 1103, 1263, 118, 15376, 25497, 117, 170, 5285, 1104, 8368, 1530, 3969, 1145, 6603, 6334, 1361, 102, 0, 0, 0, 0, 0, 0, 0, 0, 0, 0, 0, 0, 0, 0, 0, 0, 0, 0, 0, 0, 0, 0, 0, 0, 0, 0, 0, 0, 0, 0, 0, 0, 0, 0, 0, 0, 0, 0, 0, 0, 0, 0, 0, 0, 0, 0, 0, 0, 0, 0, 0, 0, 0, 0, 0, 0, 0, 0, 0, 0, 0, 0, 0, 0, 0, 0, 0, 0, 0, 0, 0, 0, 0, 0, 0, 0, 0, 0, 0, 0, 0, 0, 0, 0, 0, 0, 0, 0, 0, 0, 0, 0, 0, 0, 0, 0, 0, 0, 0, 0, 0, 0, 0, 0, 0, 0, 0, 0, 0, 0, 0, 0, 0, 0, 0, 0, 0, 0, 0, 0, 0, 0, 0, 0, 0, 0, 0, 0, 0, 0, 0, 0, 0, 0, 0, 0, 0, 0, 0, 0, 0, 0, 0, 0, 0, 0, 0, 0, 0, 0, 0, 0, 0, 0, 0, 0, 0, 0, 0, 0, 0, 0, 0, 0, 0, 0, 0, 0, 0, 0, 0, 0, 0, 0, 0, 0, 0, 0, 0, 0, 0, 0, 0, 0, 0, 0, 0, 0, 0, 0, 0, 0, 0, 0, 0, 0]\",\n          \"[101, 154, 131, 19641, 158, 6258, 18548, 21710, 1422, 6878, 1209, 1136, 1231, 9388, 1165, 146, 1840, 2330, 21238, 1179, 117, 1122, 1198, 2606, 1107, 1103, 1269, 1352, 119, 2907, 1165, 146, 1840, 4684, 3263, 1105, 4031, 1106, 1267, 1191, 1103, 6878, 1110, 1113, 1137, 1228, 1122, 1579, 11552, 1116, 1157, 1228, 117, 1184, 1156, 1129, 3989, 1142, 136, 1731, 1169, 146, 8239, 1142, 136, 146, 1687, 170, 24769, 118, 1359, 4048, 1198, 1106, 1505, 1213, 117, 146, 1238, 1204, 2561, 170, 158, 2240, 2559, 1663, 2246, 1658, 9921, 10747, 1200, 1870, 117, 1110, 1115, 1184, 1110, 3989, 1142, 2486, 136, 4514, 1192, 119, 1422, 119, 177, 4956, 158, 27954, 25131, 1320, 115, 168, 4684, 3263, 16442, 1633, 132, 158, 12150, 11708, 1204, 2271, 12350, 115, 168, 1271, 17380, 2427, 132, 158, 17656, 22377, 1233, 115, 168, 4684, 10212, 22377, 1233, 132, 158, 12738, 27525, 2559, 1663, 2246, 115, 168, 171, 5389, 27525, 132, 158, 6258, 18548, 115, 168, 171, 5700, 18548, 132, 198, 137, 2400, 113, 1664, 10024, 7257, 117, 8983, 114, 146, 23904, 3818, 5765, 158, 2240, 2924, 24704, 4064, 115, 2487, 132, 137, 2400, 113, 1664, 10024, 7257, 117, 8983, 114, 146, 23904, 3818, 5765, 158, 27954, 25131, 1320, 115, 4684, 3263, 16442, 1633, 132, 137, 2400, 113, 1664, 10024, 7257, 117, 8983, 114, 146, 23904, 3818, 5765, 158, 12150, 11708, 1204, 2271, 12350, 115, 1271, 17380, 2427, 132, 137, 2400, 113, 1664, 10024, 7257, 117, 8983, 114, 146, 23904, 3818, 5765, 158, 17656, 22377, 1233, 115, 4684, 10212, 22377, 1233, 132, 102]\"\n        ],\n        \"semantic_type\": \"\",\n        \"description\": \"\"\n      }\n    },\n    {\n      \"column\": \"pile_set_name\",\n      \"properties\": {\n        \"dtype\": \"category\",\n        \"num_unique_values\": 5,\n        \"samples\": [\n          \"StackExchange\",\n          \"Wikipedia (en)\",\n          \"PubMed Abstracts\"\n        ],\n        \"semantic_type\": \"\",\n        \"description\": \"\"\n      }\n    },\n    {\n      \"column\": \"generated_entities\",\n      \"properties\": {\n        \"dtype\": \"category\",\n        \"num_unique_values\": 10,\n        \"samples\": [\n          \"[('A Cup of Ambition', 'Title'), ('9 to 5 Musical', 'Title'), ('NYC', 'Location'), ('Neuwirth', 'Person'), ('Janney', 'Person'), ('Block', 'Person'), ('Dolly Parton', 'Person'), ('Patricia Resnick', 'Person'), ('Joe Mantello', 'Person'), ('Wicked', 'Title'), ('Allison Janney', 'Person'), ('Stephanie J. Block', 'Person'), ('Megan Hilty', 'Person'), ('Dolly Parton', 'Person'), ('Bebe Neuwirth', 'Person'), ('Chicago', 'Title'), ('Marc Kudisch', 'Person'), ('Thoroughly Modern Millie', 'Title'), ('Andy Karl', 'Person'), ('Legally Blonde', 'Title'), ('Dabney Coleman', 'Person'), ('Dolly Parton', 'Person'), ('Patricia Resnick', 'Person'), ('Playbill.com', 'Organization'), ('Oscar', 'Title'), ('Best Song', 'Title'), ('Manhattan', 'Location'), ('Kevin Stites', 'Person'), ('The Color Purple', 'Title'), ('Threepenny Opera', 'Title'), ('Nine',\",\n          \"[('Senate', 'Government Organization'), ('Federal Trade Commission', 'Government Organization'), ('Federal Communications Commission', 'Government Organization'), ('AT&T', 'Company'), ('Verizon', 'Company'), ('Sprint', 'Company'), ('T-Mobile', 'Company'), ('Commerce Chairman Jay Rockefeller', 'Person'), ('D-W.Va.', 'Location'), ('FTC', 'Government Organization'), ('Colorado', 'Location'), ('CNET', 'Company'), ('July 31', 'Date'), ('10:05 a.m.', 'Time'), ('Dara Kerr', 'Person')]\",\n          \"[('Durham', 'Location'), ('Kayley Herman', 'Person'), ('Weyburn', 'Location'), ('Saskatchewan', 'Location'), ('Sam Faber', 'Person'), ('Mt. Sinai', 'Location'), ('N.Y.', 'Location'), ('University of New Hampshire', 'Organization'), ('Colgate University', 'Organization'), ('Whittemore Center', 'Location'), ('ECAC', 'Organization'), ('Hockey East', 'Organization'), ('Ali Edell', 'Person'), ('Laura Jansen', 'Person'), ('Jennifer Hitchcock', 'Person'), ('Kelly Paton', 'Person'), ('Woodstock', 'Location'), ('Ontario', 'Location'), ('Kacey Bellamy', 'Person'), ('Westfield', 'Location'), ('Mass.', 'Location'), ('Martine Garland', 'Person'), ('Toronto', 'Location'), ('Lisa Plenderleith', 'Person'), ('Raiders', 'Organization'), ('Mallory Johnston', 'Person'), ('Sam Hunt', 'Person'), ('Elin Brown', 'Person'), ('Katie Stewart', 'Person'), ('LaSalle', 'Location'), ('St. Lawrence', 'Location'), ('Boston University', 'Organization'), ('www.unhw\"\n        ],\n        \"semantic_type\": \"\",\n        \"description\": \"\"\n      }\n    }\n  ]\n}",
              "type": "dataframe",
              "variable_name": "df"
            },
            "text/html": [
              "\n",
              "  <div id=\"df-1ed52107-aaf3-4471-bc15-88bce08a2edf\" class=\"colab-df-container\">\n",
              "    <div>\n",
              "<style scoped>\n",
              "    .dataframe tbody tr th:only-of-type {\n",
              "        vertical-align: middle;\n",
              "    }\n",
              "\n",
              "    .dataframe tbody tr th {\n",
              "        vertical-align: top;\n",
              "    }\n",
              "\n",
              "    .dataframe thead th {\n",
              "        text-align: right;\n",
              "    }\n",
              "</style>\n",
              "<table border=\"1\" class=\"dataframe\">\n",
              "  <thead>\n",
              "    <tr style=\"text-align: right;\">\n",
              "      <th></th>\n",
              "      <th>Unnamed: 0</th>\n",
              "      <th>original_text</th>\n",
              "      <th>tokenized_text</th>\n",
              "      <th>pile_set_name</th>\n",
              "      <th>generated_entities</th>\n",
              "    </tr>\n",
              "  </thead>\n",
              "  <tbody>\n",
              "    <tr>\n",
              "      <th>0</th>\n",
              "      <td>0</td>\n",
              "      <td>For Father’s Day this year, why not give him (...</td>\n",
              "      <td>[101, 1370, 4505, 787, 188, 2295, 1142, 1214, ...</td>\n",
              "      <td>Pile-CC</td>\n",
              "      <td>[('Father’s Day', 'event'), ('Cigar Art Prints...</td>\n",
              "    </tr>\n",
              "    <tr>\n",
              "      <th>1</th>\n",
              "      <td>1</td>\n",
              "      <td>The Senate has joined the Federal Trade Commis...</td>\n",
              "      <td>[101, 1109, 3279, 1144, 1688, 1103, 3467, 5820...</td>\n",
              "      <td>Pile-CC</td>\n",
              "      <td>[('Senate', 'Government Organization'), ('Fede...</td>\n",
              "    </tr>\n",
              "    <tr>\n",
              "      <th>2</th>\n",
              "      <td>2</td>\n",
              "      <td>This weekend during the TCA event, it was anno...</td>\n",
              "      <td>[101, 1188, 5138, 1219, 1103, 157, 11356, 1856...</td>\n",
              "      <td>Pile-CC</td>\n",
              "      <td>[('Arrow', 'TV Show'), ('Flash', 'TV Show'), (...</td>\n",
              "    </tr>\n",
              "    <tr>\n",
              "      <th>3</th>\n",
              "      <td>3</td>\n",
              "      <td>A Jeweler's Eye for Flaw\\n\\nStories\\n\\nChristi...</td>\n",
              "      <td>[101, 138, 23624, 1200, 112, 188, 9329, 1111, ...</td>\n",
              "      <td>Pile-CC</td>\n",
              "      <td>[('Christie Hodgen', 'Person'), ('Frederick Ba...</td>\n",
              "    </tr>\n",
              "    <tr>\n",
              "      <th>4</th>\n",
              "      <td>4</td>\n",
              "      <td>SHARE\\n\\nMcDonald’s Family Classic turns out t...</td>\n",
              "      <td>[101, 17730, 12426, 2036, 9092, 787, 188, 3921...</td>\n",
              "      <td>Pile-CC</td>\n",
              "      <td>[('McDonald’s Family Classic', 'event'), ('Sch...</td>\n",
              "    </tr>\n",
              "  </tbody>\n",
              "</table>\n",
              "</div>\n",
              "    <div class=\"colab-df-buttons\">\n",
              "\n",
              "  <div class=\"colab-df-container\">\n",
              "    <button class=\"colab-df-convert\" onclick=\"convertToInteractive('df-1ed52107-aaf3-4471-bc15-88bce08a2edf')\"\n",
              "            title=\"Convert this dataframe to an interactive table.\"\n",
              "            style=\"display:none;\">\n",
              "\n",
              "  <svg xmlns=\"http://www.w3.org/2000/svg\" height=\"24px\" viewBox=\"0 -960 960 960\">\n",
              "    <path d=\"M120-120v-720h720v720H120Zm60-500h600v-160H180v160Zm220 220h160v-160H400v160Zm0 220h160v-160H400v160ZM180-400h160v-160H180v160Zm440 0h160v-160H620v160ZM180-180h160v-160H180v160Zm440 0h160v-160H620v160Z\"/>\n",
              "  </svg>\n",
              "    </button>\n",
              "\n",
              "  <style>\n",
              "    .colab-df-container {\n",
              "      display:flex;\n",
              "      gap: 12px;\n",
              "    }\n",
              "\n",
              "    .colab-df-convert {\n",
              "      background-color: #E8F0FE;\n",
              "      border: none;\n",
              "      border-radius: 50%;\n",
              "      cursor: pointer;\n",
              "      display: none;\n",
              "      fill: #1967D2;\n",
              "      height: 32px;\n",
              "      padding: 0 0 0 0;\n",
              "      width: 32px;\n",
              "    }\n",
              "\n",
              "    .colab-df-convert:hover {\n",
              "      background-color: #E2EBFA;\n",
              "      box-shadow: 0px 1px 2px rgba(60, 64, 67, 0.3), 0px 1px 3px 1px rgba(60, 64, 67, 0.15);\n",
              "      fill: #174EA6;\n",
              "    }\n",
              "\n",
              "    .colab-df-buttons div {\n",
              "      margin-bottom: 4px;\n",
              "    }\n",
              "\n",
              "    [theme=dark] .colab-df-convert {\n",
              "      background-color: #3B4455;\n",
              "      fill: #D2E3FC;\n",
              "    }\n",
              "\n",
              "    [theme=dark] .colab-df-convert:hover {\n",
              "      background-color: #434B5C;\n",
              "      box-shadow: 0px 1px 3px 1px rgba(0, 0, 0, 0.15);\n",
              "      filter: drop-shadow(0px 1px 2px rgba(0, 0, 0, 0.3));\n",
              "      fill: #FFFFFF;\n",
              "    }\n",
              "  </style>\n",
              "\n",
              "    <script>\n",
              "      const buttonEl =\n",
              "        document.querySelector('#df-1ed52107-aaf3-4471-bc15-88bce08a2edf button.colab-df-convert');\n",
              "      buttonEl.style.display =\n",
              "        google.colab.kernel.accessAllowed ? 'block' : 'none';\n",
              "\n",
              "      async function convertToInteractive(key) {\n",
              "        const element = document.querySelector('#df-1ed52107-aaf3-4471-bc15-88bce08a2edf');\n",
              "        const dataTable =\n",
              "          await google.colab.kernel.invokeFunction('convertToInteractive',\n",
              "                                                    [key], {});\n",
              "        if (!dataTable) return;\n",
              "\n",
              "        const docLinkHtml = 'Like what you see? Visit the ' +\n",
              "          '<a target=\"_blank\" href=https://colab.research.google.com/notebooks/data_table.ipynb>data table notebook</a>'\n",
              "          + ' to learn more about interactive tables.';\n",
              "        element.innerHTML = '';\n",
              "        dataTable['output_type'] = 'display_data';\n",
              "        await google.colab.output.renderOutput(dataTable, element);\n",
              "        const docLink = document.createElement('div');\n",
              "        docLink.innerHTML = docLinkHtml;\n",
              "        element.appendChild(docLink);\n",
              "      }\n",
              "    </script>\n",
              "  </div>\n",
              "\n",
              "\n",
              "<div id=\"df-41b70e7f-0002-462b-a799-4e942a2367be\">\n",
              "  <button class=\"colab-df-quickchart\" onclick=\"quickchart('df-41b70e7f-0002-462b-a799-4e942a2367be')\"\n",
              "            title=\"Suggest charts\"\n",
              "            style=\"display:none;\">\n",
              "\n",
              "<svg xmlns=\"http://www.w3.org/2000/svg\" height=\"24px\"viewBox=\"0 0 24 24\"\n",
              "     width=\"24px\">\n",
              "    <g>\n",
              "        <path d=\"M19 3H5c-1.1 0-2 .9-2 2v14c0 1.1.9 2 2 2h14c1.1 0 2-.9 2-2V5c0-1.1-.9-2-2-2zM9 17H7v-7h2v7zm4 0h-2V7h2v10zm4 0h-2v-4h2v4z\"/>\n",
              "    </g>\n",
              "</svg>\n",
              "  </button>\n",
              "\n",
              "<style>\n",
              "  .colab-df-quickchart {\n",
              "      --bg-color: #E8F0FE;\n",
              "      --fill-color: #1967D2;\n",
              "      --hover-bg-color: #E2EBFA;\n",
              "      --hover-fill-color: #174EA6;\n",
              "      --disabled-fill-color: #AAA;\n",
              "      --disabled-bg-color: #DDD;\n",
              "  }\n",
              "\n",
              "  [theme=dark] .colab-df-quickchart {\n",
              "      --bg-color: #3B4455;\n",
              "      --fill-color: #D2E3FC;\n",
              "      --hover-bg-color: #434B5C;\n",
              "      --hover-fill-color: #FFFFFF;\n",
              "      --disabled-bg-color: #3B4455;\n",
              "      --disabled-fill-color: #666;\n",
              "  }\n",
              "\n",
              "  .colab-df-quickchart {\n",
              "    background-color: var(--bg-color);\n",
              "    border: none;\n",
              "    border-radius: 50%;\n",
              "    cursor: pointer;\n",
              "    display: none;\n",
              "    fill: var(--fill-color);\n",
              "    height: 32px;\n",
              "    padding: 0;\n",
              "    width: 32px;\n",
              "  }\n",
              "\n",
              "  .colab-df-quickchart:hover {\n",
              "    background-color: var(--hover-bg-color);\n",
              "    box-shadow: 0 1px 2px rgba(60, 64, 67, 0.3), 0 1px 3px 1px rgba(60, 64, 67, 0.15);\n",
              "    fill: var(--button-hover-fill-color);\n",
              "  }\n",
              "\n",
              "  .colab-df-quickchart-complete:disabled,\n",
              "  .colab-df-quickchart-complete:disabled:hover {\n",
              "    background-color: var(--disabled-bg-color);\n",
              "    fill: var(--disabled-fill-color);\n",
              "    box-shadow: none;\n",
              "  }\n",
              "\n",
              "  .colab-df-spinner {\n",
              "    border: 2px solid var(--fill-color);\n",
              "    border-color: transparent;\n",
              "    border-bottom-color: var(--fill-color);\n",
              "    animation:\n",
              "      spin 1s steps(1) infinite;\n",
              "  }\n",
              "\n",
              "  @keyframes spin {\n",
              "    0% {\n",
              "      border-color: transparent;\n",
              "      border-bottom-color: var(--fill-color);\n",
              "      border-left-color: var(--fill-color);\n",
              "    }\n",
              "    20% {\n",
              "      border-color: transparent;\n",
              "      border-left-color: var(--fill-color);\n",
              "      border-top-color: var(--fill-color);\n",
              "    }\n",
              "    30% {\n",
              "      border-color: transparent;\n",
              "      border-left-color: var(--fill-color);\n",
              "      border-top-color: var(--fill-color);\n",
              "      border-right-color: var(--fill-color);\n",
              "    }\n",
              "    40% {\n",
              "      border-color: transparent;\n",
              "      border-right-color: var(--fill-color);\n",
              "      border-top-color: var(--fill-color);\n",
              "    }\n",
              "    60% {\n",
              "      border-color: transparent;\n",
              "      border-right-color: var(--fill-color);\n",
              "    }\n",
              "    80% {\n",
              "      border-color: transparent;\n",
              "      border-right-color: var(--fill-color);\n",
              "      border-bottom-color: var(--fill-color);\n",
              "    }\n",
              "    90% {\n",
              "      border-color: transparent;\n",
              "      border-bottom-color: var(--fill-color);\n",
              "    }\n",
              "  }\n",
              "</style>\n",
              "\n",
              "  <script>\n",
              "    async function quickchart(key) {\n",
              "      const quickchartButtonEl =\n",
              "        document.querySelector('#' + key + ' button');\n",
              "      quickchartButtonEl.disabled = true;  // To prevent multiple clicks.\n",
              "      quickchartButtonEl.classList.add('colab-df-spinner');\n",
              "      try {\n",
              "        const charts = await google.colab.kernel.invokeFunction(\n",
              "            'suggestCharts', [key], {});\n",
              "      } catch (error) {\n",
              "        console.error('Error during call to suggestCharts:', error);\n",
              "      }\n",
              "      quickchartButtonEl.classList.remove('colab-df-spinner');\n",
              "      quickchartButtonEl.classList.add('colab-df-quickchart-complete');\n",
              "    }\n",
              "    (() => {\n",
              "      let quickchartButtonEl =\n",
              "        document.querySelector('#df-41b70e7f-0002-462b-a799-4e942a2367be button');\n",
              "      quickchartButtonEl.style.display =\n",
              "        google.colab.kernel.accessAllowed ? 'block' : 'none';\n",
              "    })();\n",
              "  </script>\n",
              "</div>\n",
              "\n",
              "    </div>\n",
              "  </div>\n"
            ],
            "text/plain": [
              "   Unnamed: 0                                      original_text  \\\n",
              "0           0  For Father’s Day this year, why not give him (...   \n",
              "1           1  The Senate has joined the Federal Trade Commis...   \n",
              "2           2  This weekend during the TCA event, it was anno...   \n",
              "3           3  A Jeweler's Eye for Flaw\\n\\nStories\\n\\nChristi...   \n",
              "4           4  SHARE\\n\\nMcDonald’s Family Classic turns out t...   \n",
              "\n",
              "                                      tokenized_text pile_set_name  \\\n",
              "0  [101, 1370, 4505, 787, 188, 2295, 1142, 1214, ...       Pile-CC   \n",
              "1  [101, 1109, 3279, 1144, 1688, 1103, 3467, 5820...       Pile-CC   \n",
              "2  [101, 1188, 5138, 1219, 1103, 157, 11356, 1856...       Pile-CC   \n",
              "3  [101, 138, 23624, 1200, 112, 188, 9329, 1111, ...       Pile-CC   \n",
              "4  [101, 17730, 12426, 2036, 9092, 787, 188, 3921...       Pile-CC   \n",
              "\n",
              "                                  generated_entities  \n",
              "0  [('Father’s Day', 'event'), ('Cigar Art Prints...  \n",
              "1  [('Senate', 'Government Organization'), ('Fede...  \n",
              "2  [('Arrow', 'TV Show'), ('Flash', 'TV Show'), (...  \n",
              "3  [('Christie Hodgen', 'Person'), ('Frederick Ba...  \n",
              "4  [('McDonald’s Family Classic', 'event'), ('Sch...  "
            ]
          },
          "execution_count": 41,
          "metadata": {},
          "output_type": "execute_result"
        }
      ],
      "source": [
        "df.head()"
      ]
    },
    {
      "cell_type": "code",
      "execution_count": null,
      "metadata": {
        "id": "_6VOZmRDaFlV",
        "tags": [],
        "outputId": "045e27e2-e659-4e83-b58f-1596b8bfbe90"
      },
      "outputs": [
        {
          "data": {
            "text/plain": [
              "Index(['Unnamed: 0.1', 'Unnamed: 0', 'original_text', 'tokenized_text',\n",
              "       'pile_set_name', 'generated_entities'],\n",
              "      dtype='object')"
            ]
          },
          "execution_count": 16,
          "metadata": {},
          "output_type": "execute_result"
        }
      ],
      "source": [
        "datapath_ent = '627entities.csv'\n",
        "df_ent = pd.read_csv(datapath_ent, engine='python', on_bad_lines='skip')\n",
        "\n",
        "df_ent.head\n",
        "df_ent.columns"
      ]
    },
    {
      "cell_type": "code",
      "execution_count": null,
      "metadata": {
        "tags": [],
        "id": "glJh59V7DQ8s",
        "outputId": "cd3820ce-2dad-47ba-98b9-9b5fd7a6e53f"
      },
      "outputs": [
        {
          "name": "stdout",
          "output_type": "stream",
          "text": [
            "Number of unique entities: 7592\n",
            "Number of unique entities: 521\n",
            "Unique entity types: {'application', 'Dataset', 'Software', 'Certification', 'device', 'weather', 'DJ', 'gender', 'Record Label', 'FS', 'position', 'work_of_art', 'artist', 'Ethnicity', 'Concept Art', 'Court', 'brand', 'material', 'Band', 'nationality', 'health condition', 'Musical Group', 'Vehicle', 'extension', 'Medical Condition', 'Collection', 'service', 'Ingredient', 'Unit', 'amount of money', 'Album', 'award', 'Music Band', 'object', 'chance', 'Animal', 'Music Brand', 'Activity', 'Sports Venue', 'Work of Art', 'department', 'creative work', 'Text', 'Work', 'User', 'Other', 'State', 'Clothing', 'process', 'template designer', 'time', 'Anatomical Structure', 'Organization', 'Lens Type', 'League', 'hex color', 'season', 'location', 'example', 'Grant', 'outcome', 'Component', 'chemical compound', 'Event', 'technology', 'Product Line', 'Sports Team', 'Educational Institution', 'operating system', 'custom demo', 'PRODUCT', 'Musical Instrument', 'File Format', 'Aperture Range', 'Club', 'Terrorist Organization', 'Format', 'strategy', 'Job Title', 'context', 'Language', 'Company', 'Amount', 'Village', 'network', 'Weapon', 'WorkOfArt', 'On-site Restaurant', 'payment method', 'Program', 'deity', 'TV show', 'Venue', 'group', 'continent', 'Plant', 'Gaming Console', 'timeframe', 'reference', 'documents', 'Sentence', 'attraction', 'Task', 'Medical Specialty', 'Religion', 'sports league', 'trademark', 'Series', 'SS', 'sports organization', 'Streaming Platform', 'criteria', 'Intellectual Property', 'Title', 'Sports Event', 'organ', 'Ethnic Group', 'camera', 'Role', 'Season', 'Price', 'organization', 'Group', 'Faction', 'Movement', 'venue', 'duration', 'song', 'Object', 'Protocol', 'Publication', 'Medical Practice', 'restaurant', 'trait', 'Brand Name', 'Organizer', 'dish', 'Unknown', 'show', 'Deity', 'Month', 'District', 'Address', 'procedure', 'task', 'book', 'type of body ache', 'LOCATION', 'virus', 'health concern', 'biomolecule', 'project', 'Gender', 'skin condition', 'date', 'architect', 'feeling', 'Process', 'Expansion Pack', 'medical specialist', 'document', 'entity', 'building', 'phenomenon', 'Living Beings', 'species', 'currency', 'Legal Entity', 'Artist', 'DATE', 'attribute', 'Tool', 'Musical Artist', 'Contact', 'Demo', 'City', 'TV Show', 'Location', 'Economic Indicator', 'Player', 'Acronym', 'part number', 'place', 'Entity', 'product', 'Medication Class', 'sensor', 'Award', 'Character', 'porn series', 'Video Game', 'activity', 'Journal', 'roadway', 'Medical Professional', 'company', 'Discipline', 'Phrase', 'services supplier', 'occupation', 'Day of the week', 'Lens Model', 'Law', 'author', 'Family', 'Nationality', 'fitness program', 'Clearance', 'Religious Text', 'cause of body aches', 'Legal Document', 'Product', 'metric', 'Amount of Money', 'Course', 'contact information', 'facility', 'register', 'Office Hours', 'emotion', 'video game', 'Song', 'Fictional Character', 'field of study', 'color', 'Camera Model', 'Color', 'feature', 'language', 'Art', 'Ordinal Number', 'Health Condition', 'protected area', 'URL', 'MISC', 'Musical', 'qualification', 'program', 'Game Character', 'software', 'Sport', 'library', 'item', 'Time', 'License', 'Philosophy', 'Fruit', 'injury', 'religious group', 'Galaxy', 'caliber', 'Competition', 'action', 'Historical Event', 'Operating System', 'Cryptocurrency', 'VPN Service', 'role', 'Culture', 'movie', 'number', 'component', 'Literature Genre', 'Music Genre', 'command', 'Feature', 'fish', 'IDE', 'hardware platform', 'title', 'Document', 'case', 'Mission', 'CreativeWork', 'Medication', 'Time Period', 'character', 'profession', 'Support Group', 'musician', 'Business Entity', 'skill', 'time zone', 'institution', 'social media platform', 'financial', 'Magazine', 'sensor model', 'Insurance Type', 'Bible verse', 'color space', 'publication', 'religious text', 'measurement', 'market', 'Number', 'medical condition', 'nutrient', 'Concept', 'singer', 'Team', 'promo code', 'Education Institution', 'Crop', 'tournament', 'fitness goal', 'Medical Procedure', 'online store', 'map area', 'porn category', 'Material', 'scholarship', 'Negation', 'entities', 'entity type', 'Device', 'exercise', 'School', 'Species', 'dog', 'Author', 'Sports Store', 'Government Body', 'category', 'Music Festival', 'Exercise', 'Seller', 'beverage', 'Website', 'environment', 'benefits', 'amount', 'Email Address', 'theme', 'research study', 'Abbreviation', 'tool', 'Social Entity', 'Miscellaneous', 'animal', 'ORGANIZATION', 'Movie', 'PERSON', 'Government Organization', 'Rating System', 'Body Part', 'Category', 'Book', 'Duration', 'job title', 'Style', 'Court Case', 'website', 'ORG', 'financial entity', 'Music Trio', 'Producer', '2D game engine', 'episode', 'Membership Club', 'publisher', 'team', 'Regulation', 'Geopolitical Entity', 'concept', 'Celestial Body', 'Game', 'country', 'ingredient', 'Inactive Ingredient', 'aspect', 'Property Type', 'Size', 'event', 'Region', 'religious leader', 'Room', 'weaknesses', 'Political Party', 'Tag', 'Treatment', 'programming language', 'Literary Work', 'degree', 'Sports League', 'Numerals', 'Profession', 'Dental Office', 'Platform', 'Person', 'sports team', 'town', 'Chemical', 'Entity Type', 'Podcast', 'framework', 'game', 'type of headache', 'topic', 'individuals', 'Medical Program', 'demographic', 'studio', 'recipe', 'Film', 'Facility', 'Symptom', 'city', 'competition', 'exhibit', 'representation', 'condition', 'Athlete', 'exercise equipment', 'Social Media Platform', 'history', 'Occupation', 'Active Ingredient', 'Creative Work', 'Procedure', 'Dentist', 'Blog', 'version number', 'Money', 'treatment', 'robot', 'method', 'Ideology', 'substance', 'diet', 'Place', 'community', 'assessment', 'Infrastructure', 'Field', 'Beverage', 'Holiday', 'issue', 'appliance', 'Personal Entity', 'theatre', 'Building', 'resource', 'chart', 'symptom', 'region', 'whistleblower', 'Medical Device', 'Brand', 'Billing Type', 'eating disorder', 'Legal Term', 'Measurement', 'comic', 'Disease', 'Policy', 'Race', 'Community', 'University', 'platform', 'person', 'disease', 'religion', 'social media', 'RV Resort', 'Day', 'factor', 'time period', 'Equipment', 'Highway', 'technique', 'Contact Information', 'Service', 'abbreviation', 'quantity', 'band', 'Item', 'Quantity', 'percentage', 'Regulatory & Policy', 'Province', 'Patient', 'food', 'calorie amount', 'Department', 'Condition', 'Education', 'Medical Entity', 'Food', 'Terrorist Group', 'Record', 'Technology', 'group of people', 'Interface', 'template', 'plant', 'Field of Study', 'Attribute', 'Medical Term', 'ticket vendor', 'ethnicity', 'Government Agency', 'body part', 'TV Network', 'medical device', 'Competition Class', 'index', 'Country', 'Mythological Figure', 'river', 'certification', 'Industry', 'Continent', 'Date', 'Price Range', 'unit', 'accommodation', 'vehicle', 'Furniture', 'Campaign', 'league'}\n"
          ]
        }
      ],
      "source": [
        "import pandas as pd\n",
        "import ast\n",
        "from collections import Counter\n",
        "\n",
        "# Replace 'your_file.csv' with the path to your CSV file\n",
        "datapath_ent = '627entities.csv'\n",
        "df_ent = pd.read_csv(datapath_ent, engine='python', on_bad_lines='skip')\n",
        "\n",
        "# Initialize a Counter object to count unique entities\n",
        "entity_counter = Counter()\n",
        "\n",
        "# Define a set to hold unique entity types\n",
        "entity_types = set()\n",
        "\n",
        "# Regular expression to match entities in the form of ('Entity', 'Type')\n",
        "entity_pattern = re.compile(r\"\\('([^']*)', '([^']*)'\\)\")\n",
        "\n",
        "# Loop through each row in the 'generated_entities' column\n",
        "for row in df_ent['generated_entities']:\n",
        "    # Check if the row is a string\n",
        "    if isinstance(row, str):\n",
        "        # Find all matches of the entity pattern in the row\n",
        "        entities = entity_pattern.findall(row)\n",
        "\n",
        "        # Update the Counter with entities\n",
        "        entity_counter.update([entity[0] for entity in entities])\n",
        "\n",
        "        # Add entity types to the set\n",
        "        entity_types.update([entity[1] for entity in entities])\n",
        "\n",
        "# Print the number of unique entities\n",
        "print(f\"Number of unique entities: {len(entity_counter)}\")\n",
        "# Print the number of unique entity types\n",
        "print(f\"Number of unique entities: {len(entity_types)}\")\n",
        "# Print the unique entity types\n",
        "print(f\"Unique entity types: {entity_types}\")\n",
        "\n",
        "# Optional: Save the unique entities and their counts to a CSV\n",
        "pd.DataFrame(entity_counter.items(), columns=['Entity', 'Count']).to_csv('unique_entities.csv', index=False)\n",
        "\n",
        "# Optional: Save the unique entity types to a text file\n",
        "with open('unique_entity_types.txt', 'w') as f:\n",
        "    for entity_type in entity_types:\n",
        "        f.write(f\"{entity_type}\\n\")"
      ]
    },
    {
      "cell_type": "code",
      "execution_count": null,
      "metadata": {
        "id": "uohh7t6YDQ8s"
      },
      "outputs": [],
      "source": []
    }
  ],
  "metadata": {
    "colab": {
      "provenance": [],
      "include_colab_link": true
    },
    "kernelspec": {
      "display_name": "LLAMA2",
      "language": "python",
      "name": "llama2"
    },
    "language_info": {
      "codemirror_mode": {
        "name": "ipython",
        "version": 3
      },
      "file_extension": ".py",
      "mimetype": "text/x-python",
      "name": "python",
      "nbconvert_exporter": "python",
      "pygments_lexer": "ipython3",
      "version": "3.8.18"
    }
  },
  "nbformat": 4,
  "nbformat_minor": 0
}